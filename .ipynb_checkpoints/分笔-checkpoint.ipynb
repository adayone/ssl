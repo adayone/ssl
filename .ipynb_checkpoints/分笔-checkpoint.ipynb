{
 "metadata": {
  "name": ""
 },
 "nbformat": 3,
 "nbformat_minor": 0,
 "worksheets": [
  {
   "cells": [
    {
     "cell_type": "code",
     "collapsed": false,
     "input": [
      "import tushare as ts\n",
      "import datetime as dt\n",
      "%matplotlib inline\n",
      "\n",
      "import pandas as pd\n",
      "import matplotlib\n",
      "matplotlib.style.use('ggplot')\n"
     ],
     "language": "python",
     "metadata": {},
     "outputs": [],
     "prompt_number": "*"
    },
    {
     "cell_type": "code",
     "collapsed": false,
     "input": [
      "# init\n",
      "id = '600570'\n",
      "end_str = '2015-07-16'"
     ],
     "language": "python",
     "metadata": {},
     "outputs": [],
     "prompt_number": "*"
    },
    {
     "cell_type": "code",
     "collapsed": false,
     "input": [
      "# get all time ticks\n",
      "def get_ticks(id, end, delta):\n",
      "    if isinstance(end, str):\n",
      "        end = dt.datetime.strptime(end_str, '%Y-%m-%d')\n",
      "    date_list = [end - dt.timedelta(days=x) for x in range(0, 100)]\n",
      "    ticks = None\n",
      "    for date in date_list:\n",
      "        date_str = dt.datetime.strftime(date, '%Y-%m-%d')\n",
      "        try:\n",
      "            tick = ts.get_tick_data(id, date_str)\n",
      "        except:\n",
      "            continue\n",
      "        if tick is None:\n",
      "            continue\n",
      "        tick['date'] = date_str\n",
      "        if ticks is None:\n",
      "            ticks = tick\n",
      "        else:\n",
      "            ticks = ticks.append(tick)\n",
      "    return ticks\n"
     ],
     "language": "python",
     "metadata": {},
     "outputs": [],
     "prompt_number": "*"
    },
    {
     "cell_type": "code",
     "collapsed": false,
     "input": [
      "def cmp_top(ticks):\n",
      "    if ticks is None:\n",
      "        return None\n",
      "    sticks = ticks.sort('amount', ascending=False).head(20)\n",
      "    try:\n",
      "        today = ts.get_today_ticks(id).sort('amount', ascending=False)\n",
      "    except:\n",
      "        return None\n",
      "    sticks = sticks.reset_index()\n",
      "    today = today.reset_index()\n",
      "    top = sticks.ix[0]\n",
      "    top_today = today.ix[0]\n",
      "    \n",
      "    return [round((top.price - top_today.price)/top.price, 3), top.price, top_today.price, top.amount, top_today.amount]"
     ],
     "language": "python",
     "metadata": {},
     "outputs": [],
     "prompt_number": "*"
    },
    {
     "cell_type": "code",
     "collapsed": false,
     "input": [
      "#rs = pd.DataFrame(columns=['code', 'rate', 'hist_price', 'today_price', 'hist-amount', 'today_amount'])\n",
      "rs = list()\n",
      "cnt = 0\n",
      "for id in ts.get_stock_basics().index:\n",
      "    print id\n",
      "    cnt += 1\n",
      "    ticks = get_ticks(id, end_str, 100)\n",
      "    cmp = cmp_top(ticks)\n",
      "    if cmp is None:\n",
      "        continue\n",
      "    cmp.append(id)\n",
      "    print cmp\n",
      "    rs.append(cmp)\n",
      "    "
     ],
     "language": "python",
     "metadata": {},
     "outputs": [
      {
       "output_type": "stream",
       "stream": "stdout",
       "text": [
        "\n",
        "000153\n",
        "'detailPages'"
       ]
      },
      {
       "output_type": "stream",
       "stream": "stdout",
       "text": [
        "\n",
        "000155\n",
        "'detailPages'"
       ]
      },
      {
       "output_type": "stream",
       "stream": "stdout",
       "text": [
        "\n",
        "000156\n",
        "'detailPages'"
       ]
      }
     ],
     "prompt_number": "*"
    },
    {
     "cell_type": "code",
     "collapsed": false,
     "input": [
      "pd.DataFrame(rs, columns=['rate', 'hist_price', 'today_price', 'hist-amount', 'today_amount', 'code'])"
     ],
     "language": "python",
     "metadata": {},
     "outputs": [],
     "prompt_number": "*"
    },
    {
     "cell_type": "code",
     "collapsed": false,
     "input": [
      "ticks['dt'] = ticks['date'] + ' '+ ticks['time']\n",
      "ticks.dt.astype(dt.datetime)\n",
      "ticks = ticks.sort('dt', ascending=True)\n"
     ],
     "language": "python",
     "metadata": {},
     "outputs": [],
     "prompt_number": "*"
    },
    {
     "cell_type": "code",
     "collapsed": false,
     "input": [
      "print ticks.plot(x='dt', y=['price', 'amount'],  secondary_y='amount')"
     ],
     "language": "python",
     "metadata": {},
     "outputs": [],
     "prompt_number": "*"
    },
    {
     "cell_type": "code",
     "collapsed": false,
     "input": [
      "a = [1, 2]"
     ],
     "language": "python",
     "metadata": {},
     "outputs": [],
     "prompt_number": "*"
    },
    {
     "cell_type": "code",
     "collapsed": false,
     "input": [
      "a.append(3)"
     ],
     "language": "python",
     "metadata": {},
     "outputs": [],
     "prompt_number": "*"
    },
    {
     "cell_type": "code",
     "collapsed": false,
     "input": [
      "a"
     ],
     "language": "python",
     "metadata": {},
     "outputs": [],
     "prompt_number": "*"
    },
    {
     "cell_type": "code",
     "collapsed": false,
     "input": [],
     "language": "python",
     "metadata": {},
     "outputs": [],
     "prompt_number": "*"
    }
   ],
   "metadata": {}
  }
 ]
}