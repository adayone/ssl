{
 "metadata": {
  "name": ""
 },
 "nbformat": 3,
 "nbformat_minor": 0,
 "worksheets": [
  {
   "cells": [
    {
     "cell_type": "code",
     "collapsed": false,
     "input": [
      "import tushare as ts\n",
      "import datetime as dt\n",
      "%matplotlib inline\n",
      "\n",
      "import pandas as pd\n",
      "import matplotlib\n",
      "matplotlib.style.use('ggplot')\n"
     ],
     "language": "python",
     "metadata": {},
     "outputs": [],
     "prompt_number": 5
    },
    {
     "cell_type": "code",
     "collapsed": false,
     "input": [
      "# init\n",
      "id = '600570'\n",
      "end_str = '2015-07-16'\n",
      "end = dt.datetime.strptime(end_str, '%Y-%m-%d')\n",
      "date_list = [end - dt.timedelta(days=x) for x in range(0, 100)]"
     ],
     "language": "python",
     "metadata": {},
     "outputs": [],
     "prompt_number": 6
    },
    {
     "cell_type": "code",
     "collapsed": false,
     "input": [
      "# get all time ticks\n",
      "def get_ticks(id, end, delta):\n",
      "    if isinstance(end, str):\n",
      "        end = dt.datetime.strptime(end_str, '%Y-%m-%d')\n",
      "    date_list = [end - dt.timedelta(days=x) for x in range(0, 100)]\n",
      "    ticks = None\n",
      "    for date in date_list:\n",
      "        date_str = dt.datetime.strftime(date, '%Y-%m-%d')\n",
      "        tick = ts.get_tick_data(id, date_str)\n",
      "        if tick is None:\n",
      "            continue\n",
      "        tick['date'] = date_str\n",
      "        if ticks is None:\n",
      "            ticks = tick\n",
      "        else:\n",
      "            ticks = ticks.append(tick)\n"
     ],
     "language": "python",
     "metadata": {},
     "outputs": [],
     "prompt_number": 7
    },
    {
     "cell_type": "code",
     "collapsed": false,
     "input": [
      "get_ticks(id, end_str, 100)"
     ],
     "language": "python",
     "metadata": {},
     "outputs": [],
     "prompt_number": "*"
    },
    {
     "cell_type": "code",
     "collapsed": false,
     "input": [
      "# get all time ticks\n",
      "ticks = None\n",
      "for date in date_list:\n",
      "    date_str = dt.datetime.strftime(date, '%Y-%m-%d')\n",
      "    tick = ts.get_tick_data(id, date_str)\n",
      "    if tick is None:\n",
      "        continue\n",
      "    tick['date'] = date_str\n",
      "    if ticks is None:\n",
      "        ticks = tick\n",
      "    else:\n",
      "        ticks = ticks.append(tick)"
     ],
     "language": "python",
     "metadata": {},
     "outputs": []
    },
    {
     "cell_type": "code",
     "collapsed": false,
     "input": [
      "sticks = ticks.sort('amount', ascending=False).head(20)\n",
      "ticks['dt'] = ticks['date'] + ticks['time']\n",
      "ticks = ticks.sort('dt')\n",
      "today = ts.get_today_ticks(id).sort('amount', ascending=False)"
     ],
     "language": "python",
     "metadata": {},
     "outputs": []
    },
    {
     "cell_type": "code",
     "collapsed": false,
     "input": [
      "sticks = sticks.reset_index()\n",
      "today = today.reset_index()\n",
      "top = sticks.ix[0]\n",
      "top_today = today.ix[0]"
     ],
     "language": "python",
     "metadata": {},
     "outputs": []
    },
    {
     "cell_type": "code",
     "collapsed": false,
     "input": [
      "print top.price, top_today.price, top.amount, top_today.amount"
     ],
     "language": "python",
     "metadata": {},
     "outputs": [
      {
       "output_type": "stream",
       "stream": "stdout",
       "text": [
        "80.87 72.05 1112172762 5101140\n"
       ]
      }
     ],
     "prompt_number": 14
    },
    {
     "cell_type": "code",
     "collapsed": false,
     "input": [
      "print ticks.plot(x='dt', y=['price', 'amount'],  secondary_y='amount')"
     ],
     "language": "python",
     "metadata": {},
     "outputs": []
    },
    {
     "cell_type": "code",
     "collapsed": false,
     "input": [],
     "language": "python",
     "metadata": {},
     "outputs": []
    }
   ],
   "metadata": {}
  }
 ]
}