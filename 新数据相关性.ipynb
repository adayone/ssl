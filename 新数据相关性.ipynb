{
 "metadata": {
  "name": ""
 },
 "nbformat": 3,
 "nbformat_minor": 0,
 "worksheets": [
  {
   "cells": [
    {
     "cell_type": "code",
     "collapsed": false,
     "input": [
      "import pandas as pd\n",
      "data_path = r\"/Users/haoyuanhu/Project/stock/Tdata.csv\"\n",
      "df = pd.read_csv(data_path, index_col=0, header=None)"
     ],
     "language": "python",
     "metadata": {},
     "outputs": [],
     "prompt_number": 36
    },
    {
     "cell_type": "code",
     "collapsed": false,
     "input": [
      "from sklearn.metrics import pairwise_distances\n",
      "dist_out = pairwise_distances(df, metric=\"cosine\")"
     ],
     "language": "python",
     "metadata": {},
     "outputs": [],
     "prompt_number": 37
    },
    {
     "cell_type": "code",
     "collapsed": false,
     "input": [
      "len(dist_out)"
     ],
     "language": "python",
     "metadata": {},
     "outputs": [
      {
       "metadata": {},
       "output_type": "pyout",
       "prompt_number": 38,
       "text": [
        "2513"
       ]
      }
     ],
     "prompt_number": 38
    },
    {
     "cell_type": "code",
     "collapsed": false,
     "input": [
      "len(df.index)"
     ],
     "language": "python",
     "metadata": {},
     "outputs": [
      {
       "metadata": {},
       "output_type": "pyout",
       "prompt_number": 39,
       "text": [
        "2513"
       ]
      }
     ],
     "prompt_number": 39
    },
    {
     "cell_type": "code",
     "collapsed": false,
     "input": [
      "name = df.index\n",
      "s = pd.DataFrame(dist_out, index=name, columns=name)"
     ],
     "language": "python",
     "metadata": {},
     "outputs": [],
     "prompt_number": 40
    },
    {
     "cell_type": "code",
     "collapsed": false,
     "input": [
      "index = \"\"\n",
      "for i in name:\n",
      "    if i.find(\"\u4e16\u7eaa\u661f\u6e90\") > 0:\n",
      "        print i\n",
      "        index = i"
     ],
     "language": "python",
     "metadata": {},
     "outputs": [
      {
       "output_type": "stream",
       "stream": "stdout",
       "text": [
        "\u6536\u76d8\u4ef7(\u4e16\u7eaa\u661f\u6e90)\n"
       ]
      }
     ],
     "prompt_number": 41
    },
    {
     "cell_type": "code",
     "collapsed": false,
     "input": [
      "pf = s.ix[index]\n",
      "pf.sort()\n",
      "pf"
     ],
     "language": "python",
     "metadata": {},
     "outputs": [
      {
       "metadata": {},
       "output_type": "pyout",
       "prompt_number": 42,
       "text": [
        "0\n",
        "\u6536\u76d8\u4ef7(\u4e16\u7eaa\u661f\u6e90)     0.000000\n",
        "\u6536\u76d8\u4ef7(\u534e\u53d1\u80a1\u4efd)     0.000066\n",
        "\u6536\u76d8\u4ef7(\u534e\u8054\u63a7\u80a1)     0.000075\n",
        "\u6536\u76d8\u4ef7(\u9c81\u5546\u7f6e\u4e1a)     0.000082\n",
        "\u6536\u76d8\u4ef7(\u6c99\u6cb3\u80a1\u4efd)     0.000088\n",
        "\u6536\u76d8\u4ef7(\u4e2d\u7cae\u5730\u4ea7)     0.000091\n",
        "\u6536\u76d8\u4ef7(\u798f\u5efa\u5357\u7eb8)     0.000097\n",
        "\u6536\u76d8\u4ef7(\u4e2d\u822a\u5730\u4ea7)     0.000107\n",
        "\u6536\u76d8\u4ef7(\u8fde\u4e91\u6e2f  )    0.000118\n",
        "\u6536\u76d8\u4ef7(\u6d77\u87ba\u6c34\u6ce5)     0.000132\n",
        "\u6536\u76d8\u4ef7(\u5927\u8fde\u6e2f  )    0.000136\n",
        "\u6536\u76d8\u4ef7(\u4e2d\u5929\u57ce\u6295)     0.000143\n",
        "\u6536\u76d8\u4ef7(\u4e91\u5357\u57ce\u6295)     0.000146\n",
        "\u6536\u76d8\u4ef7(\u4e1c\u65b9\u5bbe\u9986)     0.000147\n",
        "\u6536\u76d8\u4ef7(\u5b81\u6ce2\u6e2f  )    0.000154\n",
        "...\n",
        "\u6536\u76d8\u4ef7(\u5b89\u79d1\u745e  )    0.010236\n",
        "\u6536\u76d8\u4ef7(\u534e\u7b56\u5f71\u89c6)     0.010309\n",
        "\u6536\u76d8\u4ef7(\u5929\u821f\u6587\u5316)     0.010969\n",
        "\u6536\u76d8\u4ef7(\u661f\u7f51\u9510\u6377)     0.011550\n",
        "\u6536\u76d8\u4ef7(\u8054\u5efa\u5149\u7535)     0.011663\n",
        "\u6536\u76d8\u4ef7(\u4e09\u6cf0\u7535\u5b50)     0.012170\n",
        "\u6536\u76d8\u4ef7(\u5510\u5c71\u6e2f  )    0.013531\n",
        "\u6536\u76d8\u4ef7(\u4e07 \u529b \u8fbe)    0.016978\n",
        "\u6536\u76d8\u4ef7(\u535a\u745e\u4f20\u64ad)     0.020034\n",
        "\u6536\u76d8\u4ef7(\u91d1\u4e30\u6295\u8d44)     0.021823\n",
        "\u6536\u76d8\u4ef7(\u5eb7\u529b\u7535\u68af)     0.028949\n",
        "\u6536\u76d8\u4ef7(\u9f0e\u9f99\u80a1\u4efd)     0.035119\n",
        "\u6536\u76d8\u4ef7(\u534e\u5e73\u80a1\u4efd)     0.045026\n",
        "\u6536\u76d8\u4ef7(\u67d8\u4e2d\u5efa\u8bbe)     0.064867\n",
        "\u6536\u76d8\u4ef7(\u5357\u65b9\u8f74\u627f)     0.098237\n",
        "Name: \u6536\u76d8\u4ef7(\u4e16\u7eaa\u661f\u6e90), Length: 2513, dtype: float64"
       ]
      }
     ],
     "prompt_number": 42
    },
    {
     "cell_type": "code",
     "collapsed": false,
     "input": [],
     "language": "python",
     "metadata": {},
     "outputs": [],
     "prompt_number": 42
    }
   ],
   "metadata": {}
  }
 ]
}