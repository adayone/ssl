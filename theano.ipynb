{
 "metadata": {
  "name": ""
 },
 "nbformat": 3,
 "nbformat_minor": 0,
 "worksheets": [
  {
   "cells": [
    {
     "cell_type": "code",
     "collapsed": false,
     "input": [
      "%matplotlib inline\n"
     ],
     "language": "python",
     "metadata": {},
     "outputs": [],
     "prompt_number": 1
    },
    {
     "cell_type": "code",
     "collapsed": false,
     "input": [
      "import numpy as np\n",
      "import matplotlib.pyplot as plt\n",
      "import theano\n",
      "# By convention, the tensor submodule is loaded as T\n",
      "import theano.tensor as T"
     ],
     "language": "python",
     "metadata": {},
     "outputs": [],
     "prompt_number": 2
    },
    {
     "cell_type": "markdown",
     "metadata": {},
     "source": [
      "# \u53d8\u91cf"
     ]
    },
    {
     "cell_type": "code",
     "collapsed": false,
     "input": [
      "# The theano.tensor submodule has various primitive symbolic variable types.\n",
      "# Here, we're defining a scalar (0-d) variable.\n",
      "# The argument gives the variable its name.\n",
      "foo = T.scalar('foo')\n",
      "# Now, we can define another variable bar which is just foo squared.\n",
      "bar = foo**2\n",
      "# It will also be a theano variable.\n",
      "print type(bar)\n",
      "print bar.type\n",
      "# Using theano's pp (pretty print) function, we see that \n",
      "# bar is defined symbolically as the square of foo\n",
      "print theano.pp(bar)"
     ],
     "language": "python",
     "metadata": {},
     "outputs": [
      {
       "output_type": "stream",
       "stream": "stdout",
       "text": [
        "<class 'theano.tensor.var.TensorVariable'>\n",
        "TensorType(float64, scalar)\n",
        "(foo ** TensorConstant{2})\n"
       ]
      }
     ],
     "prompt_number": 3
    },
    {
     "cell_type": "markdown",
     "metadata": {},
     "source": [
      "# \u51fd\u6570"
     ]
    },
    {
     "cell_type": "code",
     "collapsed": false,
     "input": [
      "# We can't compute anything with foo and bar yet.\n",
      "# We need to define a theano function first.\n",
      "# The first argument of theano.function defines the inputs to the function.\n",
      "# Note that bar relies on foo, so foo is an input to this function.\n",
      "# theano.function will compile code for computing values of bar given values of foo\n",
      "f = theano.function([foo], bar)\n",
      "print f(3)"
     ],
     "language": "python",
     "metadata": {},
     "outputs": [
      {
       "output_type": "stream",
       "stream": "stdout",
       "text": [
        "9.0\n"
       ]
      }
     ],
     "prompt_number": 4
    },
    {
     "cell_type": "code",
     "collapsed": false,
     "input": [
      "# We can also use Python functions to construct Theano variables.\n",
      "# It seems pedantic here, but can make syntax cleaner for more complicated examples.\n",
      "def square(x):\n",
      "    return x**2\n",
      "bar = square(foo)\n",
      "print bar.eval({foo: 3})"
     ],
     "language": "python",
     "metadata": {},
     "outputs": [
      {
       "output_type": "stream",
       "stream": "stdout",
       "text": [
        "9.0\n"
       ]
      }
     ],
     "prompt_number": 6
    },
    {
     "cell_type": "markdown",
     "metadata": {},
     "source": [
      "## theano.tensor"
     ]
    },
    {
     "cell_type": "code",
     "collapsed": false,
     "input": [
      "\n",
      "A = T.matrix('A')\n",
      "x = T.vector('x')\n",
      "b = T.vector('b')\n",
      "y = T.dot(A, x) + b\n",
      "# Note that squaring a matrix is element-wise\n",
      "z = T.sum(A**2)\n",
      "# theano.function can compute multiple things at a time\n",
      "# You can also set default parameter values\n",
      "# We'll cover theano.config.floatX later\n",
      "b_default = np.array([0, 0], dtype=theano.config.floatX)\n",
      "linear_mix = theano.function([A, x, theano.Param(b, default=b_default)], [y, z])\n",
      "# Supplying values for A, x, and b\n",
      "print linear_mix(np.array([[1, 2, 3],\n",
      "                           [4, 5, 6]], dtype=theano.config.floatX), #A\n",
      "                 np.array([1, 2, 3], dtype=theano.config.floatX), #x\n",
      "                 np.array([4, 5], dtype=theano.config.floatX)) #b\n",
      "# Using the default value for b\n",
      "print linear_mix(np.array([[1, 2, 3],\n",
      "                           [4, 5, 6]]), #A\n",
      "                 np.array([1, 2, 3])) #x"
     ],
     "language": "python",
     "metadata": {},
     "outputs": [
      {
       "output_type": "stream",
       "stream": "stdout",
       "text": [
        "[array([ 18.,  37.]), array(91.0)]\n",
        "[array([ 14.,  32.]), array(91.0)]\n"
       ]
      }
     ],
     "prompt_number": 7
    },
    {
     "cell_type": "markdown",
     "metadata": {},
     "source": [
      "## \u5171\u4eab\u53d8\u91cf"
     ]
    },
    {
     "cell_type": "code",
     "collapsed": false,
     "input": [
      "shared_var = theano.shared(np.array([[1, 2], [3, 4]], dtype=theano.config.floatX))\n",
      "# The type of the shared variable is deduced from its initialization\n",
      "print shared_var.type()"
     ],
     "language": "python",
     "metadata": {},
     "outputs": [
      {
       "output_type": "stream",
       "stream": "stdout",
       "text": [
        "<TensorType(float64, matrix)>\n"
       ]
      }
     ],
     "prompt_number": 9
    },
    {
     "cell_type": "code",
     "collapsed": false,
     "input": [
      "# We can set the value of a shared variable using set_value\n",
      "shared_var.set_value(np.array([[3, 4], [2, 1]], dtype=theano.config.floatX))\n",
      "# ..and get it using get_value\n",
      "print shared_var.get_value()"
     ],
     "language": "python",
     "metadata": {},
     "outputs": [
      {
       "output_type": "stream",
       "stream": "stdout",
       "text": [
        "[[ 3.  4.]\n",
        " [ 2.  1.]]\n"
       ]
      }
     ],
     "prompt_number": 10
    },
    {
     "cell_type": "code",
     "collapsed": false,
     "input": [
      "shared_squared = shared_var**2\n",
      "# The first argument of theano.function (inputs) tells Theano what the arguments to the compiled function should be.\n",
      "# Note that because shared_var is shared, it already has a value, so it doesn't need to be an input to the function.\n",
      "# Therefore, Theano implicitly considers shared_var an input to a function using shared_squared and so we don't need\n",
      "# to include it in the inputs argument of theano.function.\n",
      "function_1 = theano.function([], shared_squared)\n",
      "print function_1()"
     ],
     "language": "python",
     "metadata": {},
     "outputs": [
      {
       "output_type": "stream",
       "stream": "stdout",
       "text": [
        "[[  9.  16.]\n",
        " [  4.   1.]]\n"
       ]
      }
     ],
     "prompt_number": 11
    },
    {
     "cell_type": "markdown",
     "metadata": {},
     "source": [
      "## update"
     ]
    },
    {
     "cell_type": "code",
     "collapsed": false,
     "input": [
      "# We can also update the state of a shared var in a function\n",
      "subtract = T.matrix('subtract')\n",
      "# updates takes a dict where keys are shared variables and values are the new value the shared variable should take\n",
      "# Here, updates will set shared_var = shared_var - subtract\n",
      "function_2 = theano.function([subtract], shared_var, updates={shared_var: shared_var - subtract})\n",
      "print \"shared_var before subtracting [[1, 1], [1, 1]] using function_2:\"\n",
      "print shared_var.get_value()\n",
      "# Subtract [[1, 1], [1, 1]] from shared_var\n",
      "function_2(np.array([[1, 1], [1, 1]]))\n",
      "print \"shared_var after calling function_2:\"\n",
      "print shared_var.get_value()\n",
      "# Note that this also changes the output of function_1, because shared_var is shared!\n",
      "print \"New output of function_1() (shared_var**2):\"\n",
      "print function_1()"
     ],
     "language": "python",
     "metadata": {},
     "outputs": [
      {
       "output_type": "stream",
       "stream": "stdout",
       "text": [
        "shared_var before subtracting [[1, 1], [1, 1]] using function_2:\n",
        "[[ 3.  4.]\n",
        " [ 2.  1.]]\n",
        "shared_var after calling function_2:\n",
        "[[ 2.  3.]\n",
        " [ 1.  0.]]\n",
        "New output of function_1() (shared_var**2):\n",
        "[[ 4.  9.]\n",
        " [ 1.  0.]]\n"
       ]
      }
     ],
     "prompt_number": 12
    },
    {
     "cell_type": "markdown",
     "metadata": {},
     "source": [
      "## Gradients"
     ]
    },
    {
     "cell_type": "code",
     "collapsed": false,
     "input": [
      "# Recall that bar = foo**2\n",
      "# We can compute the gradient of bar with respect to foo like so:\n",
      "bar_grad = T.grad(bar, foo)\n",
      "# We expect that bar_grad = 2*foo\n",
      "bar_grad.eval({foo: 10})"
     ],
     "language": "python",
     "metadata": {},
     "outputs": [
      {
       "metadata": {},
       "output_type": "pyout",
       "prompt_number": 13,
       "text": [
        "array(20.0)"
       ]
      }
     ],
     "prompt_number": 13
    },
    {
     "cell_type": "code",
     "collapsed": false,
     "input": [
      "\n",
      "# Recall that y = Ax + b\n",
      "# We can also compute a Jacobian like so:\n",
      "y_J = theano.gradient.jacobian(y, x)\n",
      "linear_mix_J = theano.function([A, x, b], y_J)\n",
      "# Because it's a linear mix, we expect the output to always be A\n",
      "print linear_mix_J(np.array([[9, 8, 7], [4, 5, 6]]), #A\n",
      "                   np.array([1, 2, 3]), #x\n",
      "                   np.array([4, 5])) #b\n",
      "# We can also compute the Hessian with theano.gradient.hessian (skipping that here)"
     ],
     "language": "python",
     "metadata": {},
     "outputs": [
      {
       "output_type": "stream",
       "stream": "stdout",
       "text": [
        "[[ 9.  8.  7.]\n",
        " [ 4.  5.  6.]]\n"
       ]
      },
      {
       "output_type": "stream",
       "stream": "stderr",
       "text": [
        "/Library/Python/2.7/site-packages/theano/gof/cmodule.py:284: RuntimeWarning: numpy.ndarray size changed, may indicate binary incompatibility\n",
        "  rval = __import__(module_name, {}, {}, [module_name])\n"
       ]
      }
     ],
     "prompt_number": 14
    },
    {
     "cell_type": "markdown",
     "metadata": {},
     "source": [
      "# debug mode"
     ]
    },
    {
     "cell_type": "code",
     "collapsed": false,
     "input": [
      "# A simple division function\n",
      "num = T.scalar('num')\n",
      "den = T.scalar('den')\n",
      "divide = theano.function([num, den], num/den)\n",
      "print divide(10, 2)\n",
      "# This will cause a NaN\n",
      "print divide(0, 0)"
     ],
     "language": "python",
     "metadata": {},
     "outputs": [
      {
       "output_type": "stream",
       "stream": "stdout",
       "text": [
        "5.0\n",
        "nan\n"
       ]
      }
     ],
     "prompt_number": 15
    },
    {
     "cell_type": "code",
     "collapsed": false,
     "input": [
      "# To compile a function in debug mode, just set mode='DebugMode'\n",
      "divide = theano.function([num, den], num/den, mode='DebugMode')\n",
      "# NaNs now cause errors\n",
      "print divide(0, 0)"
     ],
     "language": "python",
     "metadata": {},
     "outputs": [
      {
       "ename": "InvalidValueError",
       "evalue": "InvalidValueError\n        type(variable) = TensorType(float64, scalar)\n        variable       = Elemwise{true_div,no_inplace}.0\n        type(value)    = <type 'numpy.ndarray'>\n        dtype(value)   = float64\n        shape(value)   = ()\n        value          = nan\n        min(value)     = nan\n        max(value)     = nan\n        isfinite       = False\n        client_node    = None\n        hint           = perform output\n        specific_hint  = non-finite elements not allowed\n        context        = ...\n  Elemwise{true_div,no_inplace} [@A] ''   \n   |num [@B]\n   |den [@C]\n\n        ",
       "output_type": "pyerr",
       "traceback": [
        "\u001b[0;31m---------------------------------------------------------------------------\u001b[0m\n\u001b[0;31mInvalidValueError\u001b[0m                         Traceback (most recent call last)",
        "\u001b[0;32m<ipython-input-16-12dbcf21804a>\u001b[0m in \u001b[0;36m<module>\u001b[0;34m()\u001b[0m\n\u001b[1;32m      2\u001b[0m \u001b[0mdivide\u001b[0m \u001b[0;34m=\u001b[0m \u001b[0mtheano\u001b[0m\u001b[0;34m.\u001b[0m\u001b[0mfunction\u001b[0m\u001b[0;34m(\u001b[0m\u001b[0;34m[\u001b[0m\u001b[0mnum\u001b[0m\u001b[0;34m,\u001b[0m \u001b[0mden\u001b[0m\u001b[0;34m]\u001b[0m\u001b[0;34m,\u001b[0m \u001b[0mnum\u001b[0m\u001b[0;34m/\u001b[0m\u001b[0mden\u001b[0m\u001b[0;34m,\u001b[0m \u001b[0mmode\u001b[0m\u001b[0;34m=\u001b[0m\u001b[0;34m'DebugMode'\u001b[0m\u001b[0;34m)\u001b[0m\u001b[0;34m\u001b[0m\u001b[0m\n\u001b[1;32m      3\u001b[0m \u001b[0;31m# NaNs now cause errors\u001b[0m\u001b[0;34m\u001b[0m\u001b[0;34m\u001b[0m\u001b[0m\n\u001b[0;32m----> 4\u001b[0;31m \u001b[0;32mprint\u001b[0m \u001b[0mdivide\u001b[0m\u001b[0;34m(\u001b[0m\u001b[0;36m0\u001b[0m\u001b[0;34m,\u001b[0m \u001b[0;36m0\u001b[0m\u001b[0;34m)\u001b[0m\u001b[0;34m\u001b[0m\u001b[0m\n\u001b[0m",
        "\u001b[0;32m/Library/Python/2.7/site-packages/theano/compile/function_module.pyc\u001b[0m in \u001b[0;36m__call__\u001b[0;34m(self, *args, **kwargs)\u001b[0m\n\u001b[1;32m    577\u001b[0m         \u001b[0mt0_fn\u001b[0m \u001b[0;34m=\u001b[0m \u001b[0mtime\u001b[0m\u001b[0;34m.\u001b[0m\u001b[0mtime\u001b[0m\u001b[0;34m(\u001b[0m\u001b[0;34m)\u001b[0m\u001b[0;34m\u001b[0m\u001b[0m\n\u001b[1;32m    578\u001b[0m         \u001b[0;32mtry\u001b[0m\u001b[0;34m:\u001b[0m\u001b[0;34m\u001b[0m\u001b[0m\n\u001b[0;32m--> 579\u001b[0;31m             \u001b[0moutputs\u001b[0m \u001b[0;34m=\u001b[0m \u001b[0mself\u001b[0m\u001b[0;34m.\u001b[0m\u001b[0mfn\u001b[0m\u001b[0;34m(\u001b[0m\u001b[0;34m)\u001b[0m\u001b[0;34m\u001b[0m\u001b[0m\n\u001b[0m\u001b[1;32m    580\u001b[0m         \u001b[0;32mexcept\u001b[0m \u001b[0mException\u001b[0m\u001b[0;34m:\u001b[0m\u001b[0;34m\u001b[0m\u001b[0m\n\u001b[1;32m    581\u001b[0m             \u001b[0;32mif\u001b[0m \u001b[0mhasattr\u001b[0m\u001b[0;34m(\u001b[0m\u001b[0mself\u001b[0m\u001b[0;34m.\u001b[0m\u001b[0mfn\u001b[0m\u001b[0;34m,\u001b[0m \u001b[0;34m'position_of_error'\u001b[0m\u001b[0;34m)\u001b[0m\u001b[0;34m:\u001b[0m\u001b[0;34m\u001b[0m\u001b[0m\n",
        "\u001b[0;32m/Library/Python/2.7/site-packages/theano/compile/debugmode.pyc\u001b[0m in \u001b[0;36mdeco\u001b[0;34m()\u001b[0m\n\u001b[1;32m   2028\u001b[0m                 \u001b[0mTensorType\u001b[0m\u001b[0;34m.\u001b[0m\u001b[0mfilter_checks_isfinite\u001b[0m \u001b[0;34m=\u001b[0m \u001b[0mself\u001b[0m\u001b[0;34m.\u001b[0m\u001b[0mmaker\u001b[0m\u001b[0;34m.\u001b[0m\u001b[0mmode\u001b[0m\u001b[0;34m.\u001b[0m\u001b[0mcheck_isfinite\u001b[0m\u001b[0;34m\u001b[0m\u001b[0m\n\u001b[1;32m   2029\u001b[0m                 \u001b[0;32mtry\u001b[0m\u001b[0;34m:\u001b[0m\u001b[0;34m\u001b[0m\u001b[0m\n\u001b[0;32m-> 2030\u001b[0;31m                     \u001b[0;32mreturn\u001b[0m \u001b[0mf\u001b[0m\u001b[0;34m(\u001b[0m\u001b[0;34m)\u001b[0m\u001b[0;34m\u001b[0m\u001b[0m\n\u001b[0m\u001b[1;32m   2031\u001b[0m                 \u001b[0;32mfinally\u001b[0m\u001b[0;34m:\u001b[0m\u001b[0;34m\u001b[0m\u001b[0m\n\u001b[1;32m   2032\u001b[0m                     \u001b[0;31m# put back the filter_checks_isfinite\u001b[0m\u001b[0;34m\u001b[0m\u001b[0;34m\u001b[0m\u001b[0m\n",
        "\u001b[0;32m/Library/Python/2.7/site-packages/theano/compile/debugmode.pyc\u001b[0m in \u001b[0;36mf\u001b[0;34m()\u001b[0m\n\u001b[1;32m   1802\u001b[0m                                 raise InvalidValueError(r, storage_map[r][0],\n\u001b[1;32m   1803\u001b[0m                                                         \u001b[0mhint\u001b[0m\u001b[0;34m=\u001b[0m\u001b[0;34m'perform output'\u001b[0m\u001b[0;34m,\u001b[0m\u001b[0;34m\u001b[0m\u001b[0m\n\u001b[0;32m-> 1804\u001b[0;31m                                                         specific_hint=hint2)\n\u001b[0m\u001b[1;32m   1805\u001b[0m                         py_inplace_outs = _check_inputs(\n\u001b[1;32m   1806\u001b[0m                                 \u001b[0mnode\u001b[0m\u001b[0;34m,\u001b[0m \u001b[0mstorage_map\u001b[0m\u001b[0;34m,\u001b[0m \u001b[0mr_vals\u001b[0m\u001b[0;34m,\u001b[0m \u001b[0mdr_vals\u001b[0m\u001b[0;34m,\u001b[0m\u001b[0;34m\u001b[0m\u001b[0m\n",
        "\u001b[0;31mInvalidValueError\u001b[0m: InvalidValueError\n        type(variable) = TensorType(float64, scalar)\n        variable       = Elemwise{true_div,no_inplace}.0\n        type(value)    = <type 'numpy.ndarray'>\n        dtype(value)   = float64\n        shape(value)   = ()\n        value          = nan\n        min(value)     = nan\n        max(value)     = nan\n        isfinite       = False\n        client_node    = None\n        hint           = perform output\n        specific_hint  = non-finite elements not allowed\n        context        = ...\n  Elemwise{true_div,no_inplace} [@A] ''   \n   |num [@B]\n   |den [@C]\n\n        "
       ]
      }
     ],
     "prompt_number": 16
    },
    {
     "cell_type": "markdown",
     "metadata": {},
     "source": [
      "## Using the CPU vs GPU\u00b6\n"
     ]
    },
    {
     "cell_type": "code",
     "collapsed": false,
     "input": [
      "# You can get the values being used to configure Theano like so:\n",
      "print theano.config.device\n",
      "print theano.config.floatX"
     ],
     "language": "python",
     "metadata": {},
     "outputs": [
      {
       "output_type": "stream",
       "stream": "stdout",
       "text": [
        "cpu\n",
        "float64\n"
       ]
      }
     ],
     "prompt_number": 17
    },
    {
     "cell_type": "code",
     "collapsed": false,
     "input": [
      "\n",
      "# You can also get/set them at runtime:\n",
      "old_floatX = theano.config.floatX\n",
      "theano.config.floatX = 'float32'"
     ],
     "language": "python",
     "metadata": {},
     "outputs": [],
     "prompt_number": 18
    },
    {
     "cell_type": "code",
     "collapsed": false,
     "input": [
      "# Be careful that you're actually using floatX!\n",
      "# For example, the following will cause var to be a float64 regardless of floatX due to numpy defaults:\n",
      "var = theano.shared(np.array([1.3, 2.4]))\n",
      "print var.type() #!!!\n",
      "# So, whenever you use a numpy array, make sure to set its dtype to theano.config.floatX\n",
      "var = theano.shared(np.array([1.3, 2.4], dtype=theano.config.floatX))\n",
      "print var.type()\n",
      "# Revert to old value\n",
      "theano.config.floatX = old_floatX"
     ],
     "language": "python",
     "metadata": {},
     "outputs": [
      {
       "output_type": "stream",
       "stream": "stdout",
       "text": [
        "<TensorType(float64, vector)>\n",
        "<TensorType(float32, vector)>\n"
       ]
      }
     ],
     "prompt_number": 19
    },
    {
     "cell_type": "markdown",
     "metadata": {},
     "source": [
      "## layer class"
     ]
    },
    {
     "cell_type": "code",
     "collapsed": false,
     "input": [
      "\n",
      "class Layer(object):\n",
      "    def __init__(self, W_init, b_init, activation):\n",
      "        '''\n",
      "        A layer of a neural network, computes s(Wx + b) where s is a nonlinearity and x is the input vector.\n",
      "\n",
      "        :parameters:\n",
      "            - W_init : np.ndarray, shape=(n_output, n_input)\n",
      "                Values to initialize the weight matrix to.\n",
      "            - b_init : np.ndarray, shape=(n_output,)\n",
      "                Values to initialize the bias vector\n",
      "            - activation : theano.tensor.elemwise.Elemwise\n",
      "                Activation function for layer output\n",
      "        '''\n",
      "        # Retrieve the input and output dimensionality based on W's initialization\n",
      "        n_output, n_input = W_init.shape\n",
      "        # Make sure b is n_output in size\n",
      "        assert b_init.shape == (n_output,)\n",
      "        # All parameters should be shared variables.\n",
      "        # They're used in this class to compute the layer output,\n",
      "        # but are updated elsewhere when optimizing the network parameters.\n",
      "        # Note that we are explicitly requiring that W_init has the theano.config.floatX dtype\n",
      "        self.W = theano.shared(value=W_init.astype(theano.config.floatX),\n",
      "                               # The name parameter is solely for printing purporses\n",
      "                               name='W',\n",
      "                               # Setting borrow=True allows Theano to use user memory for this object.\n",
      "                               # It can make code slightly faster by avoiding a deep copy on construction.\n",
      "                               # For more details, see\n",
      "                               # http://deeplearning.net/software/theano/tutorial/aliasing.html\n",
      "                               borrow=True)\n",
      "        # We can force our bias vector b to be a column vector using numpy's reshape method.\n",
      "        # When b is a column vector, we can pass a matrix-shaped input to the layer\n",
      "        # and get a matrix-shaped output, thanks to broadcasting (described below)\n",
      "        self.b = theano.shared(value=b_init.reshape(-1, 1).astype(theano.config.floatX),\n",
      "                               name='b',\n",
      "                               borrow=True,\n",
      "                               # Theano allows for broadcasting, similar to numpy.\n",
      "                               # However, you need to explicitly denote which axes can be broadcasted.\n",
      "                               # By setting broadcastable=(False, True), we are denoting that b\n",
      "                               # can be broadcast (copied) along its second dimension in order to be\n",
      "                               # added to another variable.  For more information, see\n",
      "                               # http://deeplearning.net/software/theano/library/tensor/basic.html\n",
      "                               broadcastable=(False, True))\n",
      "        self.activation = activation\n",
      "        # We'll compute the gradient of the cost of the network with respect to the parameters in this list.\n",
      "        self.params = [self.W, self.b]\n",
      "        \n",
      "    def output(self, x):\n",
      "        '''\n",
      "        Compute this layer's output given an input\n",
      "        \n",
      "        :parameters:\n",
      "            - x : theano.tensor.var.TensorVariable\n",
      "                Theano symbolic variable for layer input\n",
      "\n",
      "        :returns:\n",
      "            - output : theano.tensor.var.TensorVariable\n",
      "                Mixed, biased, and activated x\n",
      "        '''\n",
      "        # Compute linear mix\n",
      "        lin_output = T.dot(self.W, x) + self.b\n",
      "        # Output is just linear mix if no activation function\n",
      "        # Otherwise, apply the activation function\n",
      "        return (lin_output if self.activation is None else self.activation(lin_output))"
     ],
     "language": "python",
     "metadata": {},
     "outputs": [],
     "prompt_number": 20
    },
    {
     "cell_type": "markdown",
     "metadata": {},
     "source": [
      "## MLP class\u00b6\n"
     ]
    },
    {
     "cell_type": "code",
     "collapsed": false,
     "input": [
      "class MLP(object):\n",
      "    def __init__(self, W_init, b_init, activations):\n",
      "        '''\n",
      "        Multi-layer perceptron class, computes the composition of a sequence of Layers\n",
      "\n",
      "        :parameters:\n",
      "            - W_init : list of np.ndarray, len=N\n",
      "                Values to initialize the weight matrix in each layer to.\n",
      "                The layer sizes will be inferred from the shape of each matrix in W_init\n",
      "            - b_init : list of np.ndarray, len=N\n",
      "                Values to initialize the bias vector in each layer to\n",
      "            - activations : list of theano.tensor.elemwise.Elemwise, len=N\n",
      "                Activation function for layer output for each layer\n",
      "        '''\n",
      "        # Make sure the input lists are all of the same length\n",
      "        assert len(W_init) == len(b_init) == len(activations)\n",
      "        \n",
      "        # Initialize lists of layers\n",
      "        self.layers = []\n",
      "        # Construct the layers\n",
      "        for W, b, activation in zip(W_init, b_init, activations):\n",
      "            self.layers.append(Layer(W, b, activation))\n",
      "\n",
      "        # Combine parameters from all layers\n",
      "        self.params = []\n",
      "        for layer in self.layers:\n",
      "            self.params += layer.params\n",
      "        \n",
      "    def output(self, x):\n",
      "        '''\n",
      "        Compute the MLP's output given an input\n",
      "        \n",
      "        :parameters:\n",
      "            - x : theano.tensor.var.TensorVariable\n",
      "                Theano symbolic variable for network input\n",
      "\n",
      "        :returns:\n",
      "            - output : theano.tensor.var.TensorVariable\n",
      "                x passed through the MLP\n",
      "        '''\n",
      "        # Recursively compute output\n",
      "        for layer in self.layers:\n",
      "            x = layer.output(x)\n",
      "        return x\n",
      "\n",
      "    def squared_error(self, x, y):\n",
      "        '''\n",
      "        Compute the squared euclidean error of the network output against the \"true\" output y\n",
      "        \n",
      "        :parameters:\n",
      "            - x : theano.tensor.var.TensorVariable\n",
      "                Theano symbolic variable for network input\n",
      "            - y : theano.tensor.var.TensorVariable\n",
      "                Theano symbolic variable for desired network output\n",
      "\n",
      "        :returns:\n",
      "            - error : theano.tensor.var.TensorVariable\n",
      "                The squared Euclidian distance between the network output and y\n",
      "        '''\n",
      "        return T.sum((self.output(x) - y)**2)"
     ],
     "language": "python",
     "metadata": {},
     "outputs": [],
     "prompt_number": 21
    },
    {
     "cell_type": "markdown",
     "metadata": {},
     "source": [
      "## Gradient descent\u00b6\n"
     ]
    },
    {
     "cell_type": "code",
     "collapsed": false,
     "input": [
      "def gradient_updates_momentum(cost, params, learning_rate, momentum):\n",
      "    '''\n",
      "    Compute updates for gradient descent with momentum\n",
      "    \n",
      "    :parameters:\n",
      "        - cost : theano.tensor.var.TensorVariable\n",
      "            Theano cost function to minimize\n",
      "        - params : list of theano.tensor.var.TensorVariable\n",
      "            Parameters to compute gradient against\n",
      "        - learning_rate : float\n",
      "            Gradient descent learning rate\n",
      "        - momentum : float\n",
      "            Momentum parameter, should be at least 0 (standard gradient descent) and less than 1\n",
      "   \n",
      "    :returns:\n",
      "        updates : list\n",
      "            List of updates, one for each parameter\n",
      "    '''\n",
      "    # Make sure momentum is a sane value\n",
      "    assert momentum < 1 and momentum >= 0\n",
      "    # List of update steps for each parameter\n",
      "    updates = []\n",
      "    # Just gradient descent on cost\n",
      "    for param in params:\n",
      "        # For each parameter, we'll create a param_update shared variable.\n",
      "        # This variable will keep track of the parameter's update step across iterations.\n",
      "        # We initialize it to 0\n",
      "        param_update = theano.shared(param.get_value()*0., broadcastable=param.broadcastable)\n",
      "        # Each parameter is updated by taking a step in the direction of the gradient.\n",
      "        # However, we also \"mix in\" the previous step according to the given momentum value.\n",
      "        # Note that when updating param_update, we are using its old value and also the new gradient step.\n",
      "        updates.append((param, param - learning_rate*param_update))\n",
      "        # Note that we don't need to derive backpropagation to compute updates - just use T.grad!\n",
      "        updates.append((param_update, momentum*param_update + (1. - momentum)*T.grad(cost, param)))\n",
      "    return updates"
     ],
     "language": "python",
     "metadata": {},
     "outputs": [],
     "prompt_number": 22
    },
    {
     "cell_type": "markdown",
     "metadata": {},
     "source": [
      "## example"
     ]
    },
    {
     "cell_type": "code",
     "collapsed": false,
     "input": [
      "# Training data - two randomly-generated Gaussian-distributed clouds of points in 2d space\n",
      "np.random.seed(0)\n",
      "# Number of points\n",
      "N = 1000\n",
      "# Labels for each cluster\n",
      "y = np.random.random_integers(0, 1, N)\n",
      "# Mean of each cluster\n",
      "means = np.array([[-1, 1], [-1, 1]])\n",
      "# Covariance (in X and Y direction) of each cluster\n",
      "covariances = np.random.random_sample((2, 2)) + 1\n",
      "# Dimensions of each point\n",
      "X = np.vstack([np.random.randn(N)*covariances[0, y] + means[0, y],\n",
      "               np.random.randn(N)*covariances[1, y] + means[1, y]])\n",
      "# Plot the data\n",
      "plt.figure(figsize=(8, 8))\n",
      "plt.scatter(X[0, :], X[1, :], c=y, lw=.3, s=3, cmap=plt.cm.cool)\n",
      "plt.axis([-6, 6, -6, 6])\n",
      "plt.show()"
     ],
     "language": "python",
     "metadata": {},
     "outputs": [
      {
       "metadata": {},
       "output_type": "display_data",
       "png": "[encoded data removed]",
       "text": [
        "<matplotlib.figure.Figure at 0x10e26e750>"
       ]
      }
     ],
     "prompt_number": 23
    },
    {
     "cell_type": "code",
     "collapsed": false,
     "input": [],
     "language": "python",
     "metadata": {},
     "outputs": []
    }
   ],
   "metadata": {}
  }
 ]
}