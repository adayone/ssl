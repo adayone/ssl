{
 "cells": [
  {
   "cell_type": "markdown",
   "metadata": {},
   "source": [
    "# Persisting DataFrame Contents  to Sqlite in Pandas"
   ]
  },
  {
   "cell_type": "markdown",
   "metadata": {},
   "source": [
    "Pandas is an amazing tool for data analysis.  SQLite is arguably the most commonly deployed SQL database (running at the core of Android Apps).  SQLite does not require a server, because the database is entirely file based - perfect for small databases.  It would be nice to have a simple one-liner interface to persist Pandas DataFrames to and from SQLite databases.  SQLite databases can be read in most languages on virtually all computing platforms, so it is truly a universal data exchange format.  \n",
    "\n",
    "This notebook provides a brief introduction to writing to, and reading from, SQLite databases from within Pandas.  It does not attempt to provide a detailed coverage of the topic nor does it cover the full spectrum of Pandas I/O options.  A class is described here that provides simple persistence of Pandas DataFrames to a SQLite database.  This class is only a very thin layer around the native Python code.\n",
    "\n",
    "The Pandas dataframe column names must be the same as the SQLite table column names for this class to work. Ideally the table names and dataframe names should also be the same, but this is not a key requirement.  It stands to reason that the SQLite table definitiom must match the data types in the dataframe, i.e., an alpha string cannot be written to an integer column.\n",
    "\n",
    "Thanks to @ToobLippe for pointing out that Pandas can write to existing tables as well as create new tables when saving."
   ]
  },
  {
   "cell_type": "code",
   "execution_count": 1,
   "metadata": {
    "collapsed": false
   },
   "outputs": [],
   "source": [
    "from __future__ import print_function\n",
    "\n",
    "import sqlite3\n",
    "import pandas as pd"
   ]
  },
  {
   "cell_type": "markdown",
   "metadata": {},
   "source": [
    "The dBase class provides basic access to open a database and run queries on the database."
   ]
  },
  {
   "cell_type": "code",
   "execution_count": 2,
   "metadata": {
    "collapsed": false
   },
   "outputs": [],
   "source": [
    "class dBase:\n",
    "    \"\"\"SQLite database class with minimal operations.\n",
    "    \"\"\"\n",
    "    \n",
    "    def __init__(self, filename):\n",
    "        \"\"\"Define the database to be used and establish a connection to the database.\n",
    "\n",
    "        Args:\n",
    "            | filename (string): path/filename to the database.\n",
    "\n",
    "        Returns:\n",
    "            | Nothing.\n",
    "\n",
    "        Raises:\n",
    "            | None.\n",
    "        \"\"\"\n",
    "        #\n",
    "        self.db = sqlite3.connect(filename)\n",
    "\n",
    "    ###########################\n",
    "    def execSQLCur(self, c,strSQL):\n",
    "        \"\"\"Execute a SQL string using the cursor passed as function parameter.\n",
    "\n",
    "        Args:\n",
    "            | c (SQLite cursor): the cursor to be used in the operation.\n",
    "            | strSQL (string): SQL command to tbe executed.\n",
    "\n",
    "        Returns:\n",
    "            | Nothing.\n",
    "\n",
    "        Raises:\n",
    "            | None.\n",
    "        \"\"\"\n",
    "        strSQL=strSQL.rstrip('\\n')\n",
    "        c.execute(strSQL)\n",
    "\n",
    "    ###########################\n",
    "    def execSQL(self, strSQL):\n",
    "        \"\"\"execute a SQL string using a local/hidden cursor.\n",
    "\n",
    "        Args:\n",
    "            | strSQL (string): SQL command to tbe executed.\n",
    "\n",
    "        Returns:\n",
    "            | Nothing.\n",
    "\n",
    "        Raises:\n",
    "            | None.\n",
    "        \"\"\"\n",
    "        strSQL=strSQL.rstrip('\\n')\n",
    "        self.db.cursor().execute(strSQL)\n",
    "\n",
    "    ###########################\n",
    "    def queryToString(self, strSQL):\n",
    "        \"\"\"Return a query result as a string.\n",
    "\n",
    "        Args:\n",
    "            | strSQL (string): SQL command to tbe executed.\n",
    "\n",
    "        Returns:\n",
    "            | (string): results from the query as a string.\n",
    "\n",
    "        Raises:\n",
    "            | None.\n",
    "        \"\"\"\n",
    "        strSQL=strSQL.rstrip('\\n')\n",
    "        c = self.db.cursor()\n",
    "        c.execute(strSQL) \n",
    "        rtnStr = ''   \n",
    "        for all in c.fetchall():\n",
    "            rtnStr += (', '.join([str(i) for i in all]) + '\\n')\n",
    "        return rtnStr\n",
    "\n",
    "    ###########################\n",
    "    def deleteTable(self, tableName):\n",
    "        \"\"\"Delete a table from the database, given the name as a string.\n",
    "\n",
    "        Args:\n",
    "            | tableName (string): name of the table to be deleted.\n",
    "\n",
    "        Returns:\n",
    "            | None.\n",
    "\n",
    "        Raises:\n",
    "            | None.\n",
    "        \"\"\"\n",
    "        c = self.db.cursor()\n",
    "        self.executeSQL(c,'drop table if exists {}'.format(tableName))\n",
    "\n",
    "    ###########################\n",
    "    def getCursor(self):\n",
    "        \"\"\"Get the cursor from the database.\n",
    "\n",
    "        Args:\n",
    "            | None\n",
    "\n",
    "        Returns:\n",
    "            | (SQLite cursor): the cursor to be used in the operation.\n",
    "\n",
    "        Raises:\n",
    "            | None.\n",
    "        \"\"\"\n",
    "        return self.db.cursor()\n",
    "\n",
    "    ###########################\n",
    "    def getCon(self):\n",
    "        \"\"\"Get a connection to the database.\n",
    "\n",
    "        Args:\n",
    "            | None\n",
    "\n",
    "        Returns:\n",
    "            | (SQLite database): database .\n",
    "\n",
    "        Raises:\n",
    "            | None.\n",
    "        \"\"\"\n",
    "        return self.db\n",
    "\n",
    "    ###########################\n",
    "    def appendDFtoSqlOverwrite(self, dataFrame, tablename, keyName):\n",
    "        \"\"\"Append/overwrite a DataFrame to a named SQLite table.\n",
    "        \n",
    "        Before writing any rows to the database table, any entries with a matching\n",
    "        column value (such as the primary key) are deleted. This is done because if \n",
    "        primary keys are enforced in the table, rows with any rows with matching \n",
    "        primary keys must be deleted.\n",
    "\n",
    "        Args:\n",
    "            | dataFrame (SQLite table): The dataFrame to be used in the operation.\n",
    "            | tablename (string): Sqlite table name.\n",
    "            | keyName (string): Dataframe/Sqlite primary key name.\n",
    "\n",
    "        Returns:\n",
    "            | None.\n",
    "\n",
    "        Raises:\n",
    "            | None.\n",
    "        \"\"\"\n",
    "        # print('Removing existing enties before attempting to write')\n",
    "        for item in dataFrame[keyName].tolist():\n",
    "            strSQL = \"delete from {} where {}='{}';\".format(tablename, keyName, item)\n",
    "            self.db.cursor().execute(strSQL)\n",
    "        #append the data to the dataFrame in the database\n",
    "        dataFrame.to_sql(tablename, self.db, if_exists='append', index=False)\n"
   ]
  },
  {
   "cell_type": "markdown",
   "metadata": {},
   "source": [
    "In the example code following, three tables are created: `names`, `address` and `clubs`.  The `name` table has entries for linking to the `address` and `clubs` tables.  The database is trivial but does demonstrate the operation of the class defined above."
   ]
  },
  {
   "cell_type": "markdown",
   "metadata": {},
   "source": [
    "Create the database"
   ]
  },
  {
   "cell_type": "code",
   "execution_count": 3,
   "metadata": {
    "collapsed": false
   },
   "outputs": [],
   "source": [
    "db=dBase('test.db3')"
   ]
  },
  {
   "cell_type": "markdown",
   "metadata": {},
   "source": [
    "Create the three tables.  Each table enforces a primary key on the table.  "
   ]
  },
  {
   "cell_type": "code",
   "execution_count": 4,
   "metadata": {
    "collapsed": false
   },
   "outputs": [],
   "source": [
    "db.execSQL(\"\"\"create table if not exists names(\n",
    "         nameID  INTEGER NOT NULL\n",
    "        ,name TEXT DEFAULT('') \n",
    "        ,surname TEXT DEFAULT('') \n",
    "        ,count INTEGER  DEFAULT(0)\n",
    "        ,addressID INTEGER  DEFAULT(0) \n",
    "        ,clubID INTEGER  DEFAULT(0) \n",
    "        ,constraint fk_addressID  FOREIGN KEY (addressID) \n",
    "          REFERENCES address(addressID)\n",
    "        ,constraint fk_clubID  FOREIGN KEY (clubID) \n",
    "          REFERENCES clubs(clubID)\n",
    "        ,constraint pk_nameID PRIMARY KEY (nameID)\n",
    "      )\"\"\")\n",
    "\n",
    "db.execSQL(\"\"\"create table if not exists address(\n",
    "         addressID  INTEGER NOT NULL\n",
    "        ,street TEXT DEFAULT('') \n",
    "        ,number INTEGER  DEFAULT(0)\n",
    "        ,constraint pk_addressID PRIMARY KEY (addressID)\n",
    "       )\"\"\")\n",
    "\n",
    "db.execSQL(\"\"\"create table if not exists clubs(\n",
    "         clubID  INTEGER NOT NULL\n",
    "        ,clubname TEXT DEFAULT('') \n",
    "        ,constraint pk_clubID PRIMARY KEY (clubID)\n",
    "       )\"\"\")"
   ]
  },
  {
   "cell_type": "markdown",
   "metadata": {},
   "source": [
    "Set up Pandas dataframes with dummy data.  In this case the names are hard-coded to an address and a club entry."
   ]
  },
  {
   "cell_type": "code",
   "execution_count": 5,
   "metadata": {
    "collapsed": false
   },
   "outputs": [],
   "source": [
    "#set up the addresses\n",
    "address = pd.DataFrame([\n",
    "    [0, 'Church Ave',5],\n",
    "    [1, 'Schoeman Str',334],\n",
    "    [2, 'Ajo Road', 8880]\n",
    "    ],\n",
    "    columns=['addressID','street','number'])\n",
    "\n",
    "#set up the clubs\n",
    "clubs = pd.DataFrame([\n",
    "    [0, 'Chess Club'],\n",
    "    [1, 'Flash Dancers'],\n",
    "    ],\n",
    "    columns=['clubID','clubname'])\n",
    "\n",
    "#set up the names table, note how data is appended to the pre-created table\n",
    "names = pd.DataFrame(columns=['nameID','name','surname','count','addressID','clubID'])\n",
    "for cnt in range(0,3):\n",
    "    tnames = pd.DataFrame([\n",
    "        [cnt*3 + 0, 'John', 'Smith{}'.format(cnt),cnt,0,0],\n",
    "        [cnt*3 + 1, 'Peter', 'Sellers{}'.format(cnt),cnt,1,1],\n",
    "        [cnt*3 + 2, 'Max', 'Johnson{}'.format(cnt),cnt,2,0]\n",
    "        ],\n",
    "        columns=['nameID','name','surname','count','addressID','clubID'])\n",
    "    names = names.append([tnames], ignore_index=True)\n"
   ]
  },
  {
   "cell_type": "markdown",
   "metadata": {},
   "source": [
    "Write the dataframes to the database:"
   ]
  },
  {
   "cell_type": "code",
   "execution_count": 6,
   "metadata": {
    "collapsed": false
   },
   "outputs": [],
   "source": [
    "db.appendDFtoSqlOverwrite(address, 'address', 'addressID')\n",
    "db.appendDFtoSqlOverwrite(clubs, 'clubs', 'clubID')\n",
    "db.appendDFtoSqlOverwrite(names, 'names', 'nameID')"
   ]
  },
  {
   "cell_type": "markdown",
   "metadata": {},
   "source": [
    "At this point you can inspect the SQLite database with a tool such as the `SQLite MAnager` running inside Foxpro.  This database can also now be processed in any other tool that has a SQLite interface.\n",
    "\n",
    "Here follows some examples using SQLite directly on the database, as written above."
   ]
  },
  {
   "cell_type": "code",
   "execution_count": 7,
   "metadata": {
    "collapsed": false
   },
   "outputs": [
    {
     "name": "stdout",
     "output_type": "stream",
     "text": [
      "select nameID, name, surname, count from names where count=0;\n",
      "0, John, Smith0, 0\n",
      "1, Peter, Sellers0, 0\n",
      "2, Max, Johnson0, 0\n",
      "\n"
     ]
    }
   ],
   "source": [
    "strSQL = 'select nameID, name, surname, count from names where count={};'.format(0)\n",
    "print(strSQL)\n",
    "print(db.queryToString(strSQL))"
   ]
  },
  {
   "cell_type": "code",
   "execution_count": 8,
   "metadata": {
    "collapsed": false
   },
   "outputs": [
    {
     "name": "stdout",
     "output_type": "stream",
     "text": [
      "select names.name, names.surname, clubs.clubname from \n",
      "names inner join clubs on names.clubID=clubs.clubID;\n",
      "John, Smith0, Chess Club\n",
      "Peter, Sellers0, Flash Dancers\n",
      "Max, Johnson0, Chess Club\n",
      "John, Smith1, Chess Club\n",
      "Peter, Sellers1, Flash Dancers\n",
      "Max, Johnson1, Chess Club\n",
      "John, Smith2, Chess Club\n",
      "Peter, Sellers2, Flash Dancers\n",
      "Max, Johnson2, Chess Club\n",
      "\n"
     ]
    }
   ],
   "source": [
    "strSQL = \"\"\"select names.name, names.surname, clubs.clubname from \n",
    "names inner join clubs on names.clubID=clubs.clubID;\"\"\"\n",
    "print(strSQL)\n",
    "print(db.queryToString(strSQL))"
   ]
  },
  {
   "cell_type": "code",
   "execution_count": 9,
   "metadata": {
    "collapsed": false
   },
   "outputs": [
    {
     "name": "stdout",
     "output_type": "stream",
     "text": [
      "select names.name, names.surname, clubs.clubname from \n",
      "names inner join clubs on names.clubID=clubs.clubID where \n",
      "clubs.clubname='Flash Dancers';\n",
      "Peter, Sellers0, Flash Dancers\n",
      "Peter, Sellers1, Flash Dancers\n",
      "Peter, Sellers2, Flash Dancers\n",
      "\n"
     ]
    }
   ],
   "source": [
    "strSQL = \"\"\"select names.name, names.surname, clubs.clubname from \n",
    "names inner join clubs on names.clubID=clubs.clubID where \n",
    "clubs.clubname='Flash Dancers';\"\"\"\n",
    "print(strSQL)\n",
    "print(db.queryToString(strSQL))\n"
   ]
  },
  {
   "cell_type": "markdown",
   "metadata": {},
   "source": [
    "Now wipe all dataframes from memory and reload these again from the database"
   ]
  },
  {
   "cell_type": "code",
   "execution_count": 10,
   "metadata": {
    "collapsed": false
   },
   "outputs": [
    {
     "name": "stdout",
     "output_type": "stream",
     "text": [
      "None\n",
      "None\n",
      "None\n"
     ]
    }
   ],
   "source": [
    "names = None\n",
    "clubs = None\n",
    "address = None\n",
    "\n",
    "print(names)\n",
    "print(clubs)\n",
    "print(address)"
   ]
  },
  {
   "cell_type": "code",
   "execution_count": 11,
   "metadata": {
    "collapsed": false
   },
   "outputs": [
    {
     "name": "stdout",
     "output_type": "stream",
     "text": [
      "   nameID   name   surname  count  addressID  clubID\n",
      "0       0   John    Smith0      0          0       0\n",
      "1       1  Peter  Sellers0      0          1       1\n",
      "2       2    Max  Johnson0      0          2       0\n",
      "3       3   John    Smith1      1          0       0\n",
      "4       4  Peter  Sellers1      1          1       1\n",
      "5       5    Max  Johnson1      1          2       0\n",
      "6       6   John    Smith2      2          0       0\n",
      "7       7  Peter  Sellers2      2          1       1\n",
      "8       8    Max  Johnson2      2          2       0\n",
      "   clubID       clubname\n",
      "0       0     Chess Club\n",
      "1       1  Flash Dancers\n",
      "   addressID        street  number\n",
      "0          0    Church Ave       5\n",
      "1          1  Schoeman Str     334\n",
      "2          2      Ajo Road    8880\n"
     ]
    }
   ],
   "source": [
    "names = pd.io.sql.read_sql('Select * from names',db.getCon(), index_col=None)\n",
    "clubs = pd.io.sql.read_sql('Select * from clubs',db.getCon(), index_col=None)\n",
    "address = pd.io.sql.read_sql('Select * from address',db.getCon(), index_col=None)\n",
    "\n",
    "print(names)\n",
    "print(clubs)\n",
    "print(address)"
   ]
  },
  {
   "cell_type": "markdown",
   "metadata": {},
   "source": [
    "## Python and [module versions, and dates](http://nbviewer.ipython.org/github/jrjohansson/scientific-python-lectures/blob/master/Lecture-0-Scientific-Computing-with-Python.ipynb)"
   ]
  },
  {
   "cell_type": "code",
   "execution_count": 12,
   "metadata": {
    "collapsed": false
   },
   "outputs": [
    {
     "data": {
      "application/json": {
       "Software versions": [
        {
         "module": "Python",
         "version": "2.7.8 32bit [MSC v.1500 32 bit (Intel)]"
        },
        {
         "module": "IPython",
         "version": "3.0.0"
        },
        {
         "module": "OS",
         "version": "Windows 7 6.1.7601 SP1"
        },
        {
         "module": "numpy",
         "version": "1.9.2"
        },
        {
         "module": "pandas",
         "version": "0.15.2"
        }
       ]
      },
      "text/html": [
       "<table><tr><th>Software</th><th>Version</th></tr><tr><td>Python</td><td>2.7.8 32bit [MSC v.1500 32 bit (Intel)]</td></tr><tr><td>IPython</td><td>3.0.0</td></tr><tr><td>OS</td><td>Windows 7 6.1.7601 SP1</td></tr><tr><td>numpy</td><td>1.9.2</td></tr><tr><td>pandas</td><td>0.15.2</td></tr><tr><td colspan='2'>Sun Jun 28 09:58:37 2015 South Africa Standard Time</td></tr></table>"
      ],
      "text/latex": [
       "\\begin{tabular}{|l|l|}\\hline\n",
       "{\\bf Software} & {\\bf Version} \\\\ \\hline\\hline\n",
       "Python & 2.7.8 32bit [MSC v.1500 32 bit (Intel)] \\\\ \\hline\n",
       "IPython & 3.0.0 \\\\ \\hline\n",
       "OS & Windows 7 6.1.7601 SP1 \\\\ \\hline\n",
       "numpy & 1.9.2 \\\\ \\hline\n",
       "pandas & 0.15.2 \\\\ \\hline\n",
       "\\hline \\multicolumn{2}{|l|}{Sun Jun 28 09:58:37 2015 South Africa Standard Time} \\\\ \\hline\n",
       "\\end{tabular}\n"
      ],
      "text/plain": [
       "Software versions\n",
       "Python 2.7.8 32bit [MSC v.1500 32 bit (Intel)]\n",
       "IPython 3.0.0\n",
       "OS Windows 7 6.1.7601 SP1\n",
       "numpy 1.9.2\n",
       "pandas 0.15.2\n",
       "Sun Jun 28 09:58:37 2015 South Africa Standard Time"
      ]
     },
     "execution_count": 12,
     "metadata": {},
     "output_type": "execute_result"
    }
   ],
   "source": [
    "%load_ext version_information\n",
    "%version_information numpy, pandas"
   ]
  },
  {
   "cell_type": "code",
   "execution_count": null,
   "metadata": {
    "collapsed": false
   },
   "outputs": [],
   "source": []
  }
 ],
 "metadata": {
  "kernelspec": {
   "display_name": "Python 2",
   "language": "python",
   "name": "python2"
  },
  "language_info": {
   "codemirror_mode": {
    "name": "ipython",
    "version": 2
   },
   "file_extension": ".py",
   "mimetype": "text/x-python",
   "name": "python",
   "nbconvert_exporter": "python",
   "pygments_lexer": "ipython2",
   "version": "2.7.8"
  }
 },
 "nbformat": 4,
 "nbformat_minor": 0
}
