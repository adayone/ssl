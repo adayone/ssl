{
 "metadata": {
  "name": ""
 },
 "nbformat": 3,
 "nbformat_minor": 0,
 "worksheets": [
  {
   "cells": [
    {
     "cell_type": "markdown",
     "metadata": {},
     "source": [
      "@haoyuan.huhy@gmail.com"
     ]
    },
    {
     "cell_type": "markdown",
     "metadata": {},
     "source": [
      "## \u4fe1\u606f\u589e\u76ca"
     ]
    },
    {
     "cell_type": "markdown",
     "metadata": {},
     "source": [
      "\u71b5\u5b9a\u4e49\u4e3a\u4fe1\u606f\u7684\u5e0c\u671b\u503c\uff0c \u5982\u679c\u5f85\u5206\u7c7b\u7684\u4e8b\u52a1\u53ef\u80fd\u4f1a\u5212\u5206\u5728\u591a\u4e2a\u5206\u7c7b\u4e4b\u4e2d\uff0c \u5219\u7b26\u53f7 $x_i$ \u7684\u4fe1\u606f\u5b9a\u4e49\u4e3a\uff1a"
     ]
    },
    {
     "cell_type": "markdown",
     "metadata": {},
     "source": [
      "$l(x_i) = -\\log_{2}{p(x_i)}$"
     ]
    },
    {
     "cell_type": "markdown",
     "metadata": {},
     "source": [
      "$p(x_i)$\u662f\u9009\u62e9\u8be5\u5206\u7c7b\u7684\u6982\u7387\u3002"
     ]
    },
    {
     "cell_type": "markdown",
     "metadata": {},
     "source": [
      "\u71b5\u662f\u6240\u6709\u53ef\u80fd\u503c\u5305\u542b\u7684\u4fe1\u606f\u671f\u671b\u503c\uff1a"
     ]
    },
    {
     "cell_type": "markdown",
     "metadata": {},
     "source": [
      "$H = - \\sum{p(x_i)log_2{p(x_i)}}$"
     ]
    },
    {
     "cell_type": "markdown",
     "metadata": {},
     "source": [
      "### \u8ba1\u7b97\u7ed9\u5b9a\u6570\u636e\u96c6\u7684\u71b5"
     ]
    },
    {
     "cell_type": "markdown",
     "metadata": {},
     "source": [
      "> \u521b\u5efa\u6570\u636e\u96c6"
     ]
    },
    {
     "cell_type": "code",
     "collapsed": false,
     "input": [
      "dataSet = [\n",
      "               [1, 1, \"1\"],\n",
      "               [1, 1, \"1\"],\n",
      "               [1, 0, \"0\"],\n",
      "                [0,1, \"0\"],\n",
      "                [0,1,\"0\"]]\n"
     ],
     "language": "python",
     "metadata": {},
     "outputs": [],
     "prompt_number": 21
    },
    {
     "cell_type": "markdown",
     "metadata": {},
     "source": [
      "> \u8ba1\u7b97\u71b5"
     ]
    },
    {
     "cell_type": "code",
     "collapsed": false,
     "input": [
      "from math import log\n",
      "def calShannonEnt(dataSet):\n",
      "    num = len(dataSet)\n",
      "    labelCounts = {}\n",
      "    for feature in dataSet:\n",
      "        currentLabel = feature[-1]\n",
      "        if currentLabel not in labelCounts.keys():\n",
      "            labelCounts[currentLabel] = 0\n",
      "        labelCounts[currentLabel] += 1\n",
      "    shannonEnt = 0.0\n",
      "    for key in labelCounts:\n",
      "        prob = float(labelCounts[key])/num\n",
      "        shannonEnt -= prob * log(prob, 2)\n",
      "    return shannonEnt"
     ],
     "language": "python",
     "metadata": {},
     "outputs": [],
     "prompt_number": 22
    },
    {
     "cell_type": "code",
     "collapsed": false,
     "input": [
      "calShannonEnt(dataSet)"
     ],
     "language": "python",
     "metadata": {},
     "outputs": [
      {
       "metadata": {},
       "output_type": "pyout",
       "prompt_number": 23,
       "text": [
        "0.9709505944546686"
       ]
      }
     ],
     "prompt_number": 23
    },
    {
     "cell_type": "markdown",
     "metadata": {},
     "source": [
      "### \u5212\u5206\u6570\u636e\u96c6"
     ]
    },
    {
     "cell_type": "markdown",
     "metadata": {},
     "source": [
      "### \u4fe1\u606f\u589e\u76ca"
     ]
    },
    {
     "cell_type": "markdown",
     "metadata": {},
     "source": [
      "$g(D, A) = H(D) - H(D \\mid A)$"
     ]
    },
    {
     "cell_type": "markdown",
     "metadata": {},
     "source": [
      "\u5176\u4e2d $H(D | A)$ \u4e3a\u6761\u4ef6\u71b5\u3002\n",
      "\n",
      "$H(D \\mid A) = \\sum{p_i H(Y \\mid X=x_i)}$"
     ]
    },
    {
     "cell_type": "markdown",
     "metadata": {},
     "source": [
      "\u6240\u4ee5\u9700\u8981\u8ba1\u7b97\u5728 A \u53d6\u4e0d\u540c\u7684\u503c\u7684\u60c5\u51b5\u4e0b\u7684\u71b5\u3002"
     ]
    },
    {
     "cell_type": "markdown",
     "metadata": {},
     "source": [
      "> append and extend"
     ]
    },
    {
     "cell_type": "code",
     "collapsed": false,
     "input": [
      "a = [1, 2, 3]\n",
      "b = [4, 5, 6]\n",
      "a.append(b)\n",
      "print a\n",
      "a.extend(b)\n",
      "print a"
     ],
     "language": "python",
     "metadata": {},
     "outputs": [
      {
       "output_type": "stream",
       "stream": "stdout",
       "text": [
        "[1, 2, 3, [4, 5, 6]]\n",
        "[1, 2, 3, [4, 5, 6], 4, 5, 6]\n"
       ]
      }
     ],
     "prompt_number": 24
    },
    {
     "cell_type": "markdown",
     "metadata": {},
     "source": [
      "> \u6309\u7167\u7ed9\u5b9a\u7279\u5f81\u5212\u5206\u6570\u636e\u96c6\uff0c \u62bd\u51fa\u7b2caxis\u5217\u7684\u503c\u4e3avalue\u7684\u6570\u636e\u96c6\uff0c \u7528\u4ee5\u8ba1\u7b97\u6761\u4ef6\u71b5\u3002"
     ]
    },
    {
     "cell_type": "code",
     "collapsed": false,
     "input": [
      "def splitDataSet(dataSet, axis, value):\n",
      "    res = []\n",
      "    for feature in dataSet:\n",
      "        if feature[axis] == value:\n",
      "            reduceFeature = feature[:axis]\n",
      "            reduceFeature.extend(feature[axis+1:])\n",
      "            res.append(reduceFeature)\n",
      "    return res           "
     ],
     "language": "python",
     "metadata": {},
     "outputs": [],
     "prompt_number": 25
    },
    {
     "cell_type": "code",
     "collapsed": false,
     "input": [
      "splitDataSet(dataSet, 0, 1)"
     ],
     "language": "python",
     "metadata": {},
     "outputs": [
      {
       "metadata": {},
       "output_type": "pyout",
       "prompt_number": 26,
       "text": [
        "[[1, '1'], [1, '1'], [0, '0']]"
       ]
      }
     ],
     "prompt_number": 26
    },
    {
     "cell_type": "markdown",
     "metadata": {},
     "source": [
      "> \u9009\u62e9\u6700\u4f73\u5212\u5206\n",
      "\n",
      "* \u9009\u62e9\u6570\u636e\u96c6\u7684\u67d0\u4e00\u5217\n",
      "* \u83b7\u53d6\u8be5\u5217\u6240\u6709\u53ef\u80fd\u7684\u503c\n",
      "* \u904d\u5386\u8fd9\u4e9b\u503c\uff0c \u5229\u7528\u8fd9\u4e9b\u503c\u8fdb\u884c\u5212\u5206"
     ]
    },
    {
     "cell_type": "code",
     "collapsed": false,
     "input": [
      "from sets import Set\n",
      "def bestSplit(dataSet):\n",
      "    featureNum = len(dataSet[0]) - 1\n",
      "    baseEnt = calShannonEnt(dataSet)\n",
      "    bestInfoGain = 0.0\n",
      "    bestFeature = -1.0\n",
      "    for i in range(featureNum):\n",
      "        featureCol = [feature[i] for feature in dataSet]\n",
      "        print \"feature col\", featureCol\n",
      "        uniq = Set(featureCol)\n",
      "        ent = 0.0\n",
      "        for value in uniq:\n",
      "            subDataSet = splitDataSet(dataSet, i ,value)\n",
      "            prob = len(subDataSet)/float(len(dataSet))\n",
      "            ent += prob * calShannonEnt(subDataSet)\n",
      "        infoGain = baseEnt - ent\n",
      "        if(infoGain > bestInfoGain):\n",
      "            bestInfoGain = infoGain\n",
      "            bestFeature = i\n",
      "        return bestFeature, bestInfoGain\n",
      "    "
     ],
     "language": "python",
     "metadata": {},
     "outputs": [],
     "prompt_number": 27
    },
    {
     "cell_type": "code",
     "collapsed": false,
     "input": [
      "bestSplit(dataSet)"
     ],
     "language": "python",
     "metadata": {},
     "outputs": [
      {
       "output_type": "stream",
       "stream": "stdout",
       "text": [
        "feature col [1, 1, 1, 0, 0]\n"
       ]
      },
      {
       "metadata": {},
       "output_type": "pyout",
       "prompt_number": 28,
       "text": [
        "(0, 0.4199730940219749)"
       ]
      }
     ],
     "prompt_number": 28
    },
    {
     "cell_type": "code",
     "collapsed": false,
     "input": [
      "import operator\n",
      "def majorityCnt(classList):\n",
      "    classCount = {}\n",
      "    for vote in classList:\n",
      "        if vote in classCount:\n",
      "            classCount[vote]+=1\n",
      "        sortedClassCount=sorted(classCount.iteritems(), key=operator.itemgetter(1), reverse=True)\n",
      "    return sortedClassCount[0][0]"
     ],
     "language": "python",
     "metadata": {},
     "outputs": [],
     "prompt_number": 29
    },
    {
     "cell_type": "code",
     "collapsed": false,
     "input": [
      "def createTree(dataSet, labels):\n",
      "    classList = [example[-1] for example in dataSet]\n",
      "    if classList.count(classList[0])==len(classList):\n",
      "        return classList[0]\n",
      "    if len(dataSet[0])==1:\n",
      "        return majorityCnt(classList)"
     ],
     "language": "python",
     "metadata": {},
     "outputs": [],
     "prompt_number": 30
    }
   ],
   "metadata": {}
  }
 ]
}