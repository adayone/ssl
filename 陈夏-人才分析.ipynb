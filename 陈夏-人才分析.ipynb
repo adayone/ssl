{
 "metadata": {
  "name": ""
 },
 "nbformat": 3,
 "nbformat_minor": 0,
 "worksheets": [
  {
   "cells": [
    {
     "cell_type": "markdown",
     "metadata": {},
     "source": [
      "# \u901a\u8fc7\u7ebf\u6027\u56de\u5f52\u7684\u65b9\u5f0f\u9884\u6d4b\u672a\u6765\u7684\u4eba\u624d\u6570\u91cf \n",
      "> haoyuan.huhy@gmail.com"
     ]
    },
    {
     "cell_type": "code",
     "collapsed": false,
     "input": [
      "data_path = r\"/Users/haoyuanhu/Project/human-predict-chenxia/0317/Sheet1-Table 1.csv\""
     ],
     "language": "python",
     "metadata": {},
     "outputs": [],
     "prompt_number": 3
    },
    {
     "cell_type": "markdown",
     "metadata": {},
     "source": [
      "## \u8bfb\u53d6\u6587\u4ef6\u4e3apandas\u7684\u77e9\u9635"
     ]
    },
    {
     "cell_type": "code",
     "collapsed": false,
     "input": [
      "import pandas as pd\n",
      "df = pd.read_csv(data_path)\n",
      "df.head()"
     ],
     "language": "python",
     "metadata": {},
     "outputs": [
      {
       "html": [
        "<div style=\"max-height:1000px;max-width:1500px;overflow:auto;\">\n",
        "<table border=\"1\" class=\"dataframe\">\n",
        "  <thead>\n",
        "    <tr style=\"text-align: right;\">\n",
        "      <th></th>\n",
        "      <th>\u5e74\u4efd</th>\n",
        "      <th>2003</th>\n",
        "      <th>2004</th>\n",
        "      <th>2005</th>\n",
        "      <th>2006</th>\n",
        "      <th>2007</th>\n",
        "      <th>2008</th>\n",
        "      <th>2009</th>\n",
        "      <th>2010</th>\n",
        "      <th>2011</th>\n",
        "      <th>2012</th>\n",
        "    </tr>\n",
        "  </thead>\n",
        "  <tbody>\n",
        "    <tr>\n",
        "      <th>0</th>\n",
        "      <td>   \u6d59\u6c5f\u7701\u751f\u4ea7\u603b\u503c\uff08\u4ebf\u5143\uff09</td>\n",
        "      <td> 9200.0</td>\n",
        "      <td> 11649</td>\n",
        "      <td> 13438.0</td>\n",
        "      <td> 15743.0</td>\n",
        "      <td> 18780.0</td>\n",
        "      <td> 21487</td>\n",
        "      <td> 22832.0</td>\n",
        "      <td> 27100.0</td>\n",
        "      <td> 32000.0</td>\n",
        "      <td> 34606.0</td>\n",
        "    </tr>\n",
        "    <tr>\n",
        "      <th>1</th>\n",
        "      <td> \u6d59\u6c5f\u7701\u9ad8\u6280\u80fd\u4eba\u624d\u6570\uff08\u4e07\u4eba\uff09</td>\n",
        "      <td>   56.6</td>\n",
        "      <td>    60</td>\n",
        "      <td>    66.7</td>\n",
        "      <td>    74.8</td>\n",
        "      <td>    84.5</td>\n",
        "      <td>   101</td>\n",
        "      <td>   105.8</td>\n",
        "      <td>   118.7</td>\n",
        "      <td>   133.1</td>\n",
        "      <td>   161.3</td>\n",
        "    </tr>\n",
        "    <tr>\n",
        "      <th>2</th>\n",
        "      <td>           NaN</td>\n",
        "      <td>    NaN</td>\n",
        "      <td>   NaN</td>\n",
        "      <td>     NaN</td>\n",
        "      <td>     NaN</td>\n",
        "      <td>     NaN</td>\n",
        "      <td>   NaN</td>\n",
        "      <td>     NaN</td>\n",
        "      <td>     NaN</td>\n",
        "      <td>     NaN</td>\n",
        "      <td>     NaN</td>\n",
        "    </tr>\n",
        "    <tr>\n",
        "      <th>3</th>\n",
        "      <td>           NaN</td>\n",
        "      <td>    NaN</td>\n",
        "      <td>   NaN</td>\n",
        "      <td>     NaN</td>\n",
        "      <td>     NaN</td>\n",
        "      <td>     NaN</td>\n",
        "      <td>   NaN</td>\n",
        "      <td>     NaN</td>\n",
        "      <td>     NaN</td>\n",
        "      <td>     NaN</td>\n",
        "      <td>     NaN</td>\n",
        "    </tr>\n",
        "    <tr>\n",
        "      <th>4</th>\n",
        "      <td>           NaN</td>\n",
        "      <td>    NaN</td>\n",
        "      <td>   NaN</td>\n",
        "      <td>     NaN</td>\n",
        "      <td>     NaN</td>\n",
        "      <td>     NaN</td>\n",
        "      <td>   NaN</td>\n",
        "      <td>     NaN</td>\n",
        "      <td>     NaN</td>\n",
        "      <td>     NaN</td>\n",
        "      <td>     NaN</td>\n",
        "    </tr>\n",
        "  </tbody>\n",
        "</table>\n",
        "<p>5 rows \u00d7 11 columns</p>\n",
        "</div>"
       ],
       "metadata": {},
       "output_type": "pyout",
       "prompt_number": 94,
       "text": [
        "              \u5e74\u4efd    2003   2004     2005     2006     2007   2008     2009  \\\n",
        "0    \u6d59\u6c5f\u7701\u751f\u4ea7\u603b\u503c\uff08\u4ebf\u5143\uff09  9200.0  11649  13438.0  15743.0  18780.0  21487  22832.0   \n",
        "1  \u6d59\u6c5f\u7701\u9ad8\u6280\u80fd\u4eba\u624d\u6570\uff08\u4e07\u4eba\uff09    56.6     60     66.7     74.8     84.5    101    105.8   \n",
        "2            NaN     NaN    NaN      NaN      NaN      NaN    NaN      NaN   \n",
        "3            NaN     NaN    NaN      NaN      NaN      NaN    NaN      NaN   \n",
        "4            NaN     NaN    NaN      NaN      NaN      NaN    NaN      NaN   \n",
        "\n",
        "      2010     2011     2012  \n",
        "0  27100.0  32000.0  34606.0  \n",
        "1    118.7    133.1    161.3  \n",
        "2      NaN      NaN      NaN  \n",
        "3      NaN      NaN      NaN  \n",
        "4      NaN      NaN      NaN  \n",
        "\n",
        "[5 rows x 11 columns]"
       ]
      }
     ],
     "prompt_number": 94
    },
    {
     "cell_type": "code",
     "collapsed": false,
     "input": [
      "age = df.columns[1:]"
     ],
     "language": "python",
     "metadata": {},
     "outputs": [],
     "prompt_number": 6
    },
    {
     "cell_type": "code",
     "collapsed": false,
     "input": [
      "print age"
     ],
     "language": "python",
     "metadata": {},
     "outputs": [
      {
       "output_type": "stream",
       "stream": "stdout",
       "text": [
        "Index([u'2003', u'2004', u'2005', u'2006', u'2007', u'2008', u'2009', u'2010', u'2011', u'2012'], dtype='object')\n"
       ]
      }
     ],
     "prompt_number": 7
    },
    {
     "cell_type": "code",
     "collapsed": false,
     "input": [
      "df.ix[0]"
     ],
     "language": "python",
     "metadata": {},
     "outputs": [
      {
       "metadata": {},
       "output_type": "pyout",
       "prompt_number": 8,
       "text": [
        "\u5e74\u4efd      \u6d59\u6c5f\u7701\u751f\u4ea7\u603b\u503c\uff08\u4ebf\u5143\uff09\n",
        "2003           9200\n",
        "2004          11649\n",
        "2005          13438\n",
        "2006          15743\n",
        "2007          18780\n",
        "2008          21487\n",
        "2009          22832\n",
        "2010          27100\n",
        "2011          32000\n",
        "2012          34606\n",
        "Name: 0, dtype: object"
       ]
      }
     ],
     "prompt_number": 8
    },
    {
     "cell_type": "code",
     "collapsed": false,
     "input": [
      "df.ix[1]"
     ],
     "language": "python",
     "metadata": {},
     "outputs": [
      {
       "metadata": {},
       "output_type": "pyout",
       "prompt_number": 9,
       "text": [
        "\u5e74\u4efd      \u6d59\u6c5f\u7701\u9ad8\u6280\u80fd\u4eba\u624d\u6570\uff08\u4e07\u4eba\uff09\n",
        "2003             56.6\n",
        "2004               60\n",
        "2005             66.7\n",
        "2006             74.8\n",
        "2007             84.5\n",
        "2008              101\n",
        "2009            105.8\n",
        "2010            118.7\n",
        "2011            133.1\n",
        "2012            161.3\n",
        "Name: 1, dtype: object"
       ]
      }
     ],
     "prompt_number": 9
    },
    {
     "cell_type": "code",
     "collapsed": false,
     "input": [
      "y0 = list(df.ix[0])[1:]"
     ],
     "language": "python",
     "metadata": {},
     "outputs": [],
     "prompt_number": 10
    },
    {
     "cell_type": "code",
     "collapsed": false,
     "input": [
      "y1 = list(df.ix[1])[1:]"
     ],
     "language": "python",
     "metadata": {},
     "outputs": [],
     "prompt_number": 11
    },
    {
     "cell_type": "code",
     "collapsed": false,
     "input": [
      "y1"
     ],
     "language": "python",
     "metadata": {},
     "outputs": [
      {
       "metadata": {},
       "output_type": "pyout",
       "prompt_number": 12,
       "text": [
        "[56.600000000000001,\n",
        " 60.0,\n",
        " 66.700000000000003,\n",
        " 74.799999999999997,\n",
        " 84.5,\n",
        " 101.0,\n",
        " 105.8,\n",
        " 118.7,\n",
        " 133.09999999999999,\n",
        " 161.30000000000001]"
       ]
      }
     ],
     "prompt_number": 12
    },
    {
     "cell_type": "markdown",
     "metadata": {},
     "source": [
      "## \u8f93\u51fa\u76f8\u5173\u957f\u5ea6\uff0c \u9884\u6d4b\u7684\u65f6\u5019x\u6570\u636e\u9700\u8981reshape"
     ]
    },
    {
     "cell_type": "code",
     "collapsed": false,
     "input": [
      "print len(age)\n",
      "print len(y0)\n",
      "print len(y1)\n",
      "print age.shape[0]\n",
      "age_train = age.reshape(age.shape[0], -1)\n",
      "print age_train"
     ],
     "language": "python",
     "metadata": {},
     "outputs": [
      {
       "output_type": "stream",
       "stream": "stdout",
       "text": [
        "10\n",
        "10\n",
        "10\n",
        "10\n",
        "Index([[u'2003'], [u'2004'], [u'2005'], [u'2006'], [u'2007'], [u'2008'], [u'2009'], [u'2010'], [u'2011'], [u'2012']], dtype='object')\n"
       ]
      }
     ],
     "prompt_number": 13
    },
    {
     "cell_type": "markdown",
     "metadata": {},
     "source": [
      "# \u6d59\u6c5f\u7701\u751f\u4ea7\u603b\u503c\u9884\u6d4b"
     ]
    },
    {
     "cell_type": "markdown",
     "metadata": {},
     "source": [
      "## \u5f00\u59cb\u5efa\u6a21"
     ]
    },
    {
     "cell_type": "code",
     "collapsed": false,
     "input": [
      "from sklearn import linear_model\n",
      "clf = linear_model.LinearRegression()\n",
      "clf.fit(age_train, y0)"
     ],
     "language": "python",
     "metadata": {},
     "outputs": [
      {
       "metadata": {},
       "output_type": "pyout",
       "prompt_number": 183,
       "text": [
        "LinearRegression(copy_X=True, fit_intercept=True, normalize=False)"
       ]
      }
     ],
     "prompt_number": 183
    },
    {
     "cell_type": "markdown",
     "metadata": {},
     "source": [
      "## \u6a21\u578b\u5efa\u7acb\u5b8c\u6bd5\uff0c \u5f00\u59cb\u9884\u6d4b"
     ]
    },
    {
     "cell_type": "code",
     "collapsed": false,
     "input": [
      "# \u9884\u6d4b\u4e94\u5e74\n",
      "x = [[2013], [2014], [2015], [2016], [2017]]\n"
     ],
     "language": "python",
     "metadata": {},
     "outputs": [],
     "prompt_number": 15
    },
    {
     "cell_type": "code",
     "collapsed": false,
     "input": [
      "y0_predict = clf.predict(x)"
     ],
     "language": "python",
     "metadata": {},
     "outputs": [],
     "prompt_number": 179
    },
    {
     "cell_type": "code",
     "collapsed": false,
     "input": [
      "\n",
      "print \"\u6d59\u6c5f\u7701\u751f\u4ea7\u603b\u503c\uff08\u4ebf\u5143\uff09\"\n",
      "print x\n",
      "print [int(y) for y in y0_predict]"
     ],
     "language": "python",
     "metadata": {},
     "outputs": [
      {
       "output_type": "stream",
       "stream": "stdout",
       "text": [
        "\u6d59\u6c5f\u7701\u751f\u4ea7\u603b\u503c\uff08\u4ebf\u5143\uff09\n",
        "[[2013], [2014], [2015], [2016], [2017]]\n",
        "[36130, 38938, 41746, 44555, 47363]\n"
       ]
      }
     ],
     "prompt_number": 17
    },
    {
     "cell_type": "markdown",
     "metadata": {},
     "source": [
      "## \u62df\u5408\u66f2\u7ebf\u56fe"
     ]
    },
    {
     "cell_type": "code",
     "collapsed": false,
     "input": [
      "age_predict = [[int(x)] for x in age]\n",
      "yp0 = clf.predict(age_predict)"
     ],
     "language": "python",
     "metadata": {},
     "outputs": [],
     "prompt_number": 184
    },
    {
     "cell_type": "code",
     "collapsed": false,
     "input": [
      "import numpy\n",
      "import pylab as plt\n",
      "age = numpy.float64(age)\n",
      "plt.figure(figsize=(8,4)) \n",
      "plt.plot(age, yp0, 'b-', label = u\"fit\")\n",
      "plt.plot(age, y0, 'r.', markersize=12, label=u\"true\")\n",
      "plt.legend()\n",
      "plt.show()"
     ],
     "language": "python",
     "metadata": {},
     "outputs": [
      {
       "metadata": {},
       "output_type": "display_data",
       "png": "[encoded data removed]",
       "text": [
        "<matplotlib.figure.Figure at 0x11730ab10>"
       ]
      }
     ],
     "prompt_number": 185
    },
    {
     "cell_type": "markdown",
     "metadata": {},
     "source": [
      "# \u6d59\u6c5f\u7701\u9ad8\u6280\u80fd\u4eba\u624d\u6570\u9884\u6d4b"
     ]
    },
    {
     "cell_type": "markdown",
     "metadata": {},
     "source": [
      "## \u5f00\u59cb\u5efa\u6a21"
     ]
    },
    {
     "cell_type": "code",
     "collapsed": false,
     "input": [
      "from sklearn import linear_model\n",
      "clf = linear_model.LinearRegression()\n",
      "clf.fit(age_train, y1)"
     ],
     "language": "python",
     "metadata": {},
     "outputs": [
      {
       "metadata": {},
       "output_type": "pyout",
       "prompt_number": 18,
       "text": [
        "LinearRegression(copy_X=True, fit_intercept=True, normalize=False)"
       ]
      }
     ],
     "prompt_number": 18
    },
    {
     "cell_type": "markdown",
     "metadata": {},
     "source": [
      "## \u5f00\u59cb\u9884\u6d4b"
     ]
    },
    {
     "cell_type": "code",
     "collapsed": false,
     "input": [
      "x = [[2013], [2014], [2015], [2016], [2017]]\n",
      "y1_predict = clf.predict(x)\n",
      "print \"\u6d59\u6c5f\u7701\u9ad8\u6280\u80fd\u4eba\u624d\u6570\uff08\u4e07\u4eba\uff09\"\n",
      "print x\n",
      "print [int(y) for y in y1_predict]"
     ],
     "language": "python",
     "metadata": {},
     "outputs": [
      {
       "output_type": "stream",
       "stream": "stdout",
       "text": [
        "\u6d59\u6c5f\u7701\u9ad8\u6280\u80fd\u4eba\u624d\u6570\uff08\u4e07\u4eba\uff09\n",
        "[[2013], [2014], [2015], [2016], [2017]]\n",
        "[157, 168, 179, 190, 201]\n"
       ]
      }
     ],
     "prompt_number": 19
    },
    {
     "cell_type": "markdown",
     "metadata": {},
     "source": [
      "## \u62df\u5408\u66f2\u7ebf\u56fe"
     ]
    },
    {
     "cell_type": "code",
     "collapsed": false,
     "input": [
      "\n",
      "# This line configures matplotlib to show figures embedded in the notebook, \n",
      "# instead of opening a new window for each figure. More about that later. \n",
      "# If you are using an old version of IPython, try using '%pylab inline' instead.\n",
      "%matplotlib inline"
     ],
     "language": "python",
     "metadata": {},
     "outputs": [],
     "prompt_number": 23
    },
    {
     "cell_type": "code",
     "collapsed": false,
     "input": [
      "age_predict = [[int(x)] for x in age]\n",
      "yp = clf.predict(age_predict)"
     ],
     "language": "python",
     "metadata": {},
     "outputs": [],
     "prompt_number": 43
    },
    {
     "cell_type": "code",
     "collapsed": false,
     "input": [
      "import numpy\n",
      "import pylab as plt\n",
      "age = numpy.float64(age)\n",
      "plt.figure(figsize=(8,4)) \n",
      "plt.plot(age, yp, 'b-', label = u\"fit\")\n",
      "plt.plot(age, y1, 'r.', markersize=12, label=u\"true\")\n",
      "plt.legend()\n",
      "plt.show()\n"
     ],
     "language": "python",
     "metadata": {},
     "outputs": [
      {
       "metadata": {},
       "output_type": "display_data",
       "png": "[encoded data removed]",
       "text": [
        "<matplotlib.figure.Figure at 0x1172ea650>"
       ]
      }
     ],
     "prompt_number": 175
    },
    {
     "cell_type": "code",
     "collapsed": false,
     "input": [
      "from ggplot import *\n",
      "\n",
      "ggplot(aes(x='date', y='beef'), data=rmd) + \\\n",
      "    geom_point(color='lightblue') + \\\n",
      "    stat_smooth(span=.15, color='black', se=True) + \\\n",
      "    ggtitle(\"Beef: It's What's for Dinner\") + \\\n",
      "    xlab(\"Date\") + \\\n",
      "    ylab(\"Head of Cattle Slaughtered\")"
     ],
     "language": "python",
     "metadata": {},
     "outputs": []
    }
   ],
   "metadata": {}
  }
 ]
}