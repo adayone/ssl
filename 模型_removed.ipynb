{
 "metadata": {
  "name": ""
 },
 "nbformat": 3,
 "nbformat_minor": 0,
 "worksheets": [
  {
   "cells": [
    {
     "cell_type": "code",
     "collapsed": false,
     "input": [
      "import pandas\n",
      "import numpy  as np\n",
      "from sklearn.linear_model import LogisticRegression as LR\n",
      "from sklearn.ensemble import GradientBoostingClassifier\n",
      "from sklearn.svm import SVC\n",
      "from sklearn.grid_search import GridSearchCV\n",
      "import tushare as ts\n",
      "import datetime as dt\n",
      "import pandas as pd\n",
      "from stock_tools import trade \n",
      "pd.options.mode.chained_assignment = None  # default='warn'\n"
     ],
     "language": "python",
     "metadata": {},
     "outputs": [],
     "prompt_number": 35
    },
    {
     "cell_type": "code",
     "collapsed": false,
     "input": [
      "id = '000559'"
     ],
     "language": "python",
     "metadata": {},
     "outputs": [],
     "prompt_number": 23
    },
    {
     "cell_type": "code",
     "collapsed": false,
     "input": [
      "hist = ts.get_h_data(id, autype='qfq', start='2011-01-01')\n"
     ],
     "language": "python",
     "metadata": {},
     "outputs": [],
     "prompt_number": 24
    },
    {
     "cell_type": "code",
     "collapsed": false,
     "input": [
      "label_date = '2015-03-01'\n",
      "label_date in hist.index"
     ],
     "language": "python",
     "metadata": {},
     "outputs": [],
     "prompt_number": 25
    },
    {
     "cell_type": "code",
     "collapsed": false,
     "input": [
      "def pre_process(label_dt, hist):\n",
      "    if label_dt not in hist.index:\n",
      "        return None\n",
      "    if isinstance(label_dt, str):\n",
      "        label_dt = dt.datetime.strptime(label_date, '%Y-%m-%d')\n",
      "    if label_dt.weekday() == 0:\n",
      "        yes_dt = label_dt - dt.timedelta(3)\n",
      "    else:\n",
      "        yes_dt = label_dt - dt.timedelta(1)\n",
      "    if yes_dt not in hist.index:\n",
      "        return None\n",
      "    trainset = hist.query('date < \"%s\"'%label_date)\n",
      "    trainset['date'] = trainset.index\n",
      "    trainset['delta'] = trainset['date'] - label_dt\n",
      "    delta = trainset.delta.dt.days.map(str)\n",
      "    feature =  delta + '_open : ' + trainset['open'].map(str) \\\n",
      "    +' '+ delta + '_high : ' + trainset['high'].map(str) \\\n",
      "    +' '+ delta + '_close : ' + trainset['close'].map(str) \\\n",
      "    +' '+ delta + '_amount : ' + trainset['amount'].map(str) \\\n",
      "    +' '+ delta + '_volume : ' + trainset['volume'].map(str) \n",
      "    x = ' '.join(feature)\n",
      "    y = (hist.ix[label_dt]['close'] - hist.ix[yes_dt]['close'])/hist.ix[yes_dt]['close']\n",
      "    return x, y"
     ],
     "language": "python",
     "metadata": {},
     "outputs": [],
     "prompt_number": 26
    },
    {
     "cell_type": "code",
     "collapsed": false,
     "input": [
      "end = '2015-03-03'\n",
      "end_dt = dt.datetime.strptime(end, '%Y-%m-%d')\n",
      "date_list = [end_dt - dt.timedelta(days=x) for x in range(0, 1000)]"
     ],
     "language": "python",
     "metadata": {},
     "outputs": [],
     "prompt_number": 43
    },
    {
     "cell_type": "code",
     "collapsed": false,
     "input": [
      "ids = hist['code']\n"
     ],
     "language": "python",
     "metadata": {},
     "outputs": [],
     "prompt_number": 49
    },
    {
     "cell_type": "code",
     "collapsed": false,
     "input": [
      "f = open('train/trainset.csv', 'w')\n",
      "for id in ids:\n",
      "    print id\n",
      "    h = hist.query('code == \"%s\"'%id)\n",
      "    for d in date_list:\n",
      "        print d\n",
      "        rs = pre_process(d, h)\n",
      "        if rs is None:\n",
      "            continue    \n",
      "        x, y = rs\n",
      "        if y > 0.05:\n",
      "            y = 1\n",
      "        else:\n",
      "            y = -1\n",
      "        f.write('%s | %s\\n'%(y, x))"
     ],
     "language": "python",
     "metadata": {},
     "outputs": [],
     "prompt_number": "*"
    },
    {
     "cell_type": "code",
     "collapsed": false,
     "input": [
      "hist = trade.get_new_history()"
     ],
     "language": "python",
     "metadata": {},
     "outputs": [],
     "prompt_number": 39
    },
    {
     "cell_type": "code",
     "collapsed": false,
     "input": [
      "hist.head()"
     ],
     "language": "python",
     "metadata": {},
     "outputs": [],
     "prompt_number": 47
    },
    {
     "cell_type": "code",
     "collapsed": false,
     "input": [
      "hist.query('code = \"3000001\"')"
     ],
     "language": "python",
     "metadata": {},
     "outputs": [],
     "prompt_number": 52
    },
    {
     "cell_type": "code",
     "collapsed": false,
     "input": [],
     "language": "python",
     "metadata": {},
     "outputs": []
    }
   ],
   "metadata": {}
  }
 ]
}