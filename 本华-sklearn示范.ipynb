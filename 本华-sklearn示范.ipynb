{
 "metadata": {
  "name": ""
 },
 "nbformat": 3,
 "nbformat_minor": 0,
 "worksheets": [
  {
   "cells": [
    {
     "cell_type": "markdown",
     "metadata": {},
     "source": [
      "# sklearn\u793a\u8303\n",
      "@haoyuan.huhy@gmail.com"
     ]
    },
    {
     "cell_type": "code",
     "collapsed": false,
     "input": [
      "import pandas\n",
      "import numpy  as np\n",
      "from sklearn.linear_model import LogisticRegression as LR\n",
      "from sklearn.ensemble import GradientBoostingClassifier\n",
      "from sklearn.svm import SVC\n",
      "from sklearn.grid_search import GridSearchCV\n",
      "\n",
      "%matplotlib inline"
     ],
     "language": "python",
     "metadata": {},
     "outputs": []
    },
    {
     "cell_type": "markdown",
     "metadata": {},
     "source": [
      "# load data"
     ]
    },
    {
     "cell_type": "code",
     "collapsed": false,
     "input": [
      "trainset = pandas.read_csv(r\"/Users/haoyuanhu/Project/tmall-com/train.csv\", header=None)\n",
      "labels = pandas.read_csv(r\"/Users/haoyuanhu/Project/tmall-com//trainLabels.csv\", header=None)\n",
      "testset = pandas.read_csv(r\"/Users/haoyuanhu/Project/tmall-com//test.csv\", header=None)"
     ],
     "language": "python",
     "metadata": {},
     "outputs": []
    },
    {
     "cell_type": "code",
     "collapsed": false,
     "input": [
      "trainset.head()"
     ],
     "language": "python",
     "metadata": {},
     "outputs": []
    },
    {
     "cell_type": "code",
     "collapsed": false,
     "input": [
      "train_x = np.asarray(trainset)\n",
      "train_y = np.asarray(labels).ravel()\n",
      "test_x = np.asarray(testset)\n",
      "print train_x.shape, test_x.shape, train_y.shape"
     ],
     "language": "python",
     "metadata": {},
     "outputs": []
    },
    {
     "cell_type": "markdown",
     "metadata": {},
     "source": [
      "# preprocess\n",
      "\n",
      "> \u8fd9\u4e2a\u5c55\u793a\u4e86sklearn\u7684\u9884\u5904\u7406\u51fd\u6570\uff0c \u5177\u4f53\u95ee\u9898\u7684\u9884\u5904\u7406\u5e76\u4e0d\u76f8\u540c\u3002"
     ]
    },
    {
     "cell_type": "code",
     "collapsed": false,
     "input": [
      "from sklearn.preprocessing import StandardScaler, normalize\n",
      "ss = StandardScaler()\n",
      "train_scale_x = ss.fit_transform(train_x)\n",
      "test_scale_x = ss.transform(test_x)\n",
      "print train_scale_x"
     ],
     "language": "python",
     "metadata": {},
     "outputs": []
    },
    {
     "cell_type": "markdown",
     "metadata": {},
     "source": [
      "# train"
     ]
    },
    {
     "cell_type": "markdown",
     "metadata": {},
     "source": [
      "### LR - Logistic Regression "
     ]
    },
    {
     "cell_type": "code",
     "collapsed": false,
     "input": [
      "clf = LR()\n",
      "clf.fit(train_x, train_y)\n",
      "print 'Coefficients :\\n', clf.coef_"
     ],
     "language": "python",
     "metadata": {},
     "outputs": []
    },
    {
     "cell_type": "markdown",
     "metadata": {},
     "source": [
      "### SVM"
     ]
    },
    {
     "cell_type": "code",
     "collapsed": false,
     "input": [
      "clf = SVC()\n",
      "clf.fit(train_x, train_y)"
     ],
     "language": "python",
     "metadata": {},
     "outputs": []
    },
    {
     "cell_type": "markdown",
     "metadata": {},
     "source": [
      "### GBRT"
     ]
    },
    {
     "cell_type": "code",
     "collapsed": false,
     "input": [
      "clf = GradientBoostingClassifier(n_estimators=200, max_depth=3)\n",
      "clf.fit(train_x, train_y)"
     ],
     "language": "python",
     "metadata": {},
     "outputs": []
    },
    {
     "cell_type": "markdown",
     "metadata": {},
     "source": [
      "# cross validation"
     ]
    },
    {
     "cell_type": "markdown",
     "metadata": {},
     "source": [
      "#### method 1: use train_test_split"
     ]
    },
    {
     "cell_type": "code",
     "collapsed": false,
     "input": [
      "from sklearn.cross_validation import train_test_split\n",
      "X_train, X_test, y_train, y_test = train_test_split(train_x, train_y, test_size=0.2, random_state=0)\n",
      "clf = LR()\n",
      "clf.fit(X_train, y_train) \n",
      "clf.score(X_test, y_test)"
     ],
     "language": "python",
     "metadata": {},
     "outputs": []
    },
    {
     "cell_type": "markdown",
     "metadata": {},
     "source": [
      "#### methoed 2 : use cross\\_val\\_score"
     ]
    },
    {
     "cell_type": "code",
     "collapsed": false,
     "input": [
      "# Estimate score\n",
      "scores = cv.cross_val_score(clf, train_x, train_y, cv=30)\n",
      "print('Estimated score: %0.5f (+/- %0.5f)' % (scores.mean(), scores.std() / 2))"
     ],
     "language": "python",
     "metadata": {},
     "outputs": []
    },
    {
     "cell_type": "markdown",
     "metadata": {},
     "source": [
      "LR\u7684\u8bad\u7ec3\u8db3\u591f\u5065\u58ee\uff0c \u800c\u4e14\u57fa\u672c\u80fd\u591f\u5e94\u5bf9\u5927\u90e8\u5206\u573a\u666f\uff0c \u8ba1\u7b97\u590d\u6742\u5ea6\u4e5f\u8f83\u4f4e\uff0c \u9002\u5408\u7528\u4e8e\u5927\u89c4\u6a21\u6570\u636e\u8bad\u7ec3\u3002\n",
      "\n",
      "\u4f46\u662f\u5728\u5c0f\u89c4\u6a21\u6570\u636e\u96c6\u4e0b\uff0c LR\u7684\u6548\u679c\u57fa\u672c\u5c5e\u4e8ebase line\u7ea7\u522b\u3002"
     ]
    },
    {
     "cell_type": "markdown",
     "metadata": {},
     "source": [
      "# grid search"
     ]
    },
    {
     "cell_type": "markdown",
     "metadata": {},
     "source": [
      "### SVM"
     ]
    },
    {
     "cell_type": "code",
     "collapsed": false,
     "input": [
      "svc = SVC(probability=True)\n",
      "C_range = 2.0 ** np.arange(-10, 10)\n",
      "gamma_range = 2.0 ** np.arange(-10, 10)\n",
      "param_grid = dict(gamma=gamma_range, C=C_range)\n",
      "\n",
      "clf = GridSearchCV(svc, param_grid=param_grid, scoring = 'roc_auc',cv=10, n_jobs=-1)\n",
      "print(\"The best classifier is: \", clf.best_estimator_)\n",
      "print(\"The best params is: \", best_clf.best_params_)\n",
      "print(\"The bset score is: \", best_clf.best_score_)\n",
      "clf = clf.best_estimator_"
     ],
     "language": "python",
     "metadata": {},
     "outputs": []
    },
    {
     "cell_type": "markdown",
     "metadata": {},
     "source": [
      "### GBRT"
     ]
    },
    {
     "cell_type": "code",
     "collapsed": false,
     "input": [
      "depth = np.arange(1, 10)\n",
      "gbrt = GradientBoostingClassifier(n_estimators=200)\n",
      "\n",
      "clf = GridSearchCV(gbrt, param_grid={\"max_depth\":depth}, scoring = 'roc_auc', cv=10, n_jobs=-1)\n",
      "clf.fit(train_x, train_y)\n",
      "print(\"The best classifier is: \", clf.best_estimator_)\n",
      "print(\"The best params is: \", best_clf.best_params_)\n",
      "print(\"The bset score is: \", best_clf.best_score_)\n",
      "clf = clf.best_estimator_"
     ],
     "language": "python",
     "metadata": {},
     "outputs": []
    },
    {
     "cell_type": "markdown",
     "metadata": {},
     "source": [
      "# predict"
     ]
    },
    {
     "cell_type": "code",
     "collapsed": false,
     "input": [
      "test_y = clf.predict(test_x)"
     ],
     "language": "python",
     "metadata": {},
     "outputs": []
    },
    {
     "cell_type": "markdown",
     "metadata": {},
     "source": [
      "# save"
     ]
    },
    {
     "cell_type": "code",
     "collapsed": false,
     "input": [
      "test_y_df = pandas.DataFrame(dict(Id = np.arange(1, test_y.shape[0]+1), Solution=test_y))\n",
      "test_y_df.to_csv(r\"/Users/haoyuanhu/Project/tmall-com/label_predict.csv\",  header = True, index=False)"
     ],
     "language": "python",
     "metadata": {},
     "outputs": []
    },
    {
     "cell_type": "markdown",
     "metadata": {},
     "source": [
      "# whole preprocess"
     ]
    },
    {
     "cell_type": "code",
     "collapsed": false,
     "input": [
      "import numpy as np\n",
      "import pandas as pd\n",
      "from sklearn import preprocessing as pp\n",
      "from sklearn import cross_validation as cv\n",
      "from sklearn.ensemble import ExtraTreesClassifier\n",
      "from sklearn.svm import SVC\n",
      "from sklearn.grid_search import GridSearchCV\n",
      "from sklearn.decomposition import PCA\n",
      "\n",
      "\n",
      "workDir = r'/Users/haoyuanhu/Project/tmall-com/'\n",
      "\n",
      "# Read data\n",
      "trainset = pd.read_csv(r\"/Users/haoyuanhu/Project/tmall-com/train.csv\", header=None)\n",
      "labels = pd.read_csv(r\"/Users/haoyuanhu/Project/tmall-com//trainLabels.csv\", header=None)\n",
      "testset = pd.read_csv(r\"/Users/haoyuanhu/Project/tmall-com//test.csv\", header=None)\n",
      "\n",
      "train_x = np.asarray(trainset)\n",
      "train_y = np.asarray(labels).ravel()\n",
      "test_x = np.asarray(testset)\n",
      "\n",
      "\n",
      "# Scale data\n",
      "train_x = pp.scale(train_x)\n",
      "test_x = pp.scale(test_x)\n",
      "\n",
      "# pca\n",
      "pca = PCA(n_components=12,whiten=True)\n",
      "train_x = pca.fit_transform(train_x)\n",
      "test_x = pca.transform(test_x)\n",
      "\n",
      "\n",
      "# Select features\n",
      "selector = ExtraTreesClassifier(random_state=0)\n",
      "train_x = selector.fit_transform(train_x, train_y)\n",
      "test_x = selector.transform(test_x)\n",
      "\n",
      "# grid search\n",
      "#C_range = 2.0 ** np.arange(-10, 10)\n",
      "#gamma_range = 2.0 ** np.arange(-10, 10)\n",
      "\n",
      "#param_grid = dict(gamma=gamma_range, C=C_range)\n",
      "#svc = SVC(probability=True)\n",
      "#best_clf = GridSearchCV(svc, param_grid=param_grid, scoring = 'roc_auc',cv=10, n_jobs=-1)\n",
      "#best_clf.fit(train_x, train_y)\n",
      "\n",
      "# best clf\n",
      "#classifier = SVC(probability=True, **best_clf.best_params_)\n",
      "classifier = SVC(C=8, gamma=0.17)\n",
      "scores = cv.cross_val_score(classifier, train_x, train_y, cv=30)\n",
      "print('Estimated score: %0.5f (+/- %0.5f)' % (scores.mean(), scores.std() / 2))\n",
      "\n",
      "# Predict and save\n",
      "test_y = classifier.fit(train_x, train_y).predict(test_x)\n",
      "test_y_df = pd.DataFrame(dict(Id = np.arange(1, test_y.shape[0]+1), Solution=test_y))\n",
      "test_y_df.to_csv(workDir + \"svm_label.csv\",  header = True, index=False)"
     ],
     "language": "python",
     "metadata": {},
     "outputs": []
    }
   ],
   "metadata": {}
  }
 ]
}